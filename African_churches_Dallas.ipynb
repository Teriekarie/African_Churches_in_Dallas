{
 "cells": [
  {
   "cell_type": "code",
   "execution_count": 167,
   "id": "3a3b67ab",
   "metadata": {},
   "outputs": [],
   "source": [
    "#import the libraries\n",
    "\n",
    "import pandas as pd\n",
    "import matplotlib.pyplot as plt\n",
    "import seaborn as sns\n",
    "import re"
   ]
  },
  {
   "cell_type": "code",
   "execution_count": 195,
   "id": "7012569a",
   "metadata": {},
   "outputs": [],
   "source": [
    "#loading the dataset\n",
    "\n",
    "data = pd.read_csv(\"C:/Users/terre/Downloads/african churches in dallas - Copy of African churches in dallas (1).csv\")\n"
   ]
  },
  {
   "cell_type": "code",
   "execution_count": 169,
   "id": "fd7e44be",
   "metadata": {},
   "outputs": [
    {
     "data": {
      "text/html": [
       "<div>\n",
       "<style scoped>\n",
       "    .dataframe tbody tr th:only-of-type {\n",
       "        vertical-align: middle;\n",
       "    }\n",
       "\n",
       "    .dataframe tbody tr th {\n",
       "        vertical-align: top;\n",
       "    }\n",
       "\n",
       "    .dataframe thead th {\n",
       "        text-align: right;\n",
       "    }\n",
       "</style>\n",
       "<table border=\"1\" class=\"dataframe\">\n",
       "  <thead>\n",
       "    <tr style=\"text-align: right;\">\n",
       "      <th></th>\n",
       "      <th>church_name</th>\n",
       "      <th>church_address</th>\n",
       "      <th>Latitude</th>\n",
       "      <th>Longitude</th>\n",
       "      <th>church_phone</th>\n",
       "      <th>church_denomination</th>\n",
       "      <th>church_social_url</th>\n",
       "      <th>Demography by size</th>\n",
       "      <th>Church_website</th>\n",
       "      <th>Service_time</th>\n",
       "      <th>Service_day</th>\n",
       "      <th>Weekday_service</th>\n",
       "    </tr>\n",
       "  </thead>\n",
       "  <tbody>\n",
       "    <tr>\n",
       "      <th>0</th>\n",
       "      <td>Good Street Baptist Church</td>\n",
       "      <td>3110 Bonnie View Road, Dallas, Texas 75126, Un...</td>\n",
       "      <td>32.684058</td>\n",
       "      <td>-96.768401</td>\n",
       "      <td>214.375.4266</td>\n",
       "      <td>in Baptist</td>\n",
       "      <td>https://www.facebook.com/churchwithaheart</td>\n",
       "      <td>Medium</td>\n",
       "      <td>https://www.goodstreetbaptistchurch.org/</td>\n",
       "      <td>11:00 AM</td>\n",
       "      <td>Sunday</td>\n",
       "      <td>NaN</td>\n",
       "    </tr>\n",
       "    <tr>\n",
       "      <th>1</th>\n",
       "      <td>Greenway Park Church of God in Christ</td>\n",
       "      <td>2002 Dennison St., Dallas, Texas 75212, United...</td>\n",
       "      <td>32.781801</td>\n",
       "      <td>-96.850516</td>\n",
       "      <td>214.638.0163</td>\n",
       "      <td>in Church of God In Christ</td>\n",
       "      <td>https://www.facebook.com/people/Greenway-Park-...</td>\n",
       "      <td>Medium</td>\n",
       "      <td>http://greenwayparkchurch.org/</td>\n",
       "      <td>11:45 AM</td>\n",
       "      <td>Sunday</td>\n",
       "      <td>NaN</td>\n",
       "    </tr>\n",
       "    <tr>\n",
       "      <th>2</th>\n",
       "      <td>Light of the World Church of Christ</td>\n",
       "      <td>7408 South Hampton Rd, Dallas, Texas 75232, Un...</td>\n",
       "      <td>32.688866</td>\n",
       "      <td>-96.857011</td>\n",
       "      <td>469-567-8200</td>\n",
       "      <td>in Church of Christ</td>\n",
       "      <td>https://www.facebook.com/people/Light-of-the-W...</td>\n",
       "      <td>Large</td>\n",
       "      <td>http://www.lightoftheworldchurchofchrist.com/</td>\n",
       "      <td>10:00 AM</td>\n",
       "      <td>Sunday</td>\n",
       "      <td>NaN</td>\n",
       "    </tr>\n",
       "    <tr>\n",
       "      <th>3</th>\n",
       "      <td>Full Gospel Tabernacle Church</td>\n",
       "      <td>623 E. Woodin, Dallas, Texas 75216, United States</td>\n",
       "      <td>32.722731</td>\n",
       "      <td>-96.810846</td>\n",
       "      <td>214.943.3760</td>\n",
       "      <td>in Non Denominational</td>\n",
       "      <td>https://www.facebook.com/fg.dallas/</td>\n",
       "      <td>Large</td>\n",
       "      <td>https://fgtdallas.org/</td>\n",
       "      <td>10:00 am / 7:00 pm</td>\n",
       "      <td>Sunday</td>\n",
       "      <td>NaN</td>\n",
       "    </tr>\n",
       "    <tr>\n",
       "      <th>4</th>\n",
       "      <td>Dallas City Temple Seventh Day Adventist</td>\n",
       "      <td>1530 Bonnie View Road, Dallas, Texas 75203, Un...</td>\n",
       "      <td>32.684058</td>\n",
       "      <td>-96.768401</td>\n",
       "      <td>(214) 942-3870</td>\n",
       "      <td>in Seventh-Day Adventist</td>\n",
       "      <td>https://twitter.com/DalCityTemple/</td>\n",
       "      <td>Mega</td>\n",
       "      <td>https://dallascitytemple.org/</td>\n",
       "      <td>11:00 AM</td>\n",
       "      <td>Sabbath</td>\n",
       "      <td>NaN</td>\n",
       "    </tr>\n",
       "  </tbody>\n",
       "</table>\n",
       "</div>"
      ],
      "text/plain": [
       "                                church_name  \\\n",
       "0                Good Street Baptist Church   \n",
       "1     Greenway Park Church of God in Christ   \n",
       "2       Light of the World Church of Christ   \n",
       "3             Full Gospel Tabernacle Church   \n",
       "4  Dallas City Temple Seventh Day Adventist   \n",
       "\n",
       "                                      church_address   Latitude  Longitude  \\\n",
       "0  3110 Bonnie View Road, Dallas, Texas 75126, Un...  32.684058 -96.768401   \n",
       "1  2002 Dennison St., Dallas, Texas 75212, United...  32.781801 -96.850516   \n",
       "2  7408 South Hampton Rd, Dallas, Texas 75232, Un...  32.688866 -96.857011   \n",
       "3  623 E. Woodin, Dallas, Texas 75216, United States  32.722731 -96.810846   \n",
       "4  1530 Bonnie View Road, Dallas, Texas 75203, Un...  32.684058 -96.768401   \n",
       "\n",
       "    church_phone          church_denomination  \\\n",
       "0    214.375.4266                  in Baptist   \n",
       "1    214.638.0163  in Church of God In Christ   \n",
       "2    469-567-8200         in Church of Christ   \n",
       "3    214.943.3760       in Non Denominational   \n",
       "4  (214) 942-3870    in Seventh-Day Adventist   \n",
       "\n",
       "                                   church_social_url Demography by size  \\\n",
       "0          https://www.facebook.com/churchwithaheart             Medium   \n",
       "1  https://www.facebook.com/people/Greenway-Park-...             Medium   \n",
       "2  https://www.facebook.com/people/Light-of-the-W...              Large   \n",
       "3                https://www.facebook.com/fg.dallas/              Large   \n",
       "4                 https://twitter.com/DalCityTemple/               Mega   \n",
       "\n",
       "                                  Church_website        Service_time  \\\n",
       "0       https://www.goodstreetbaptistchurch.org/            11:00 AM   \n",
       "1                 http://greenwayparkchurch.org/            11:45 AM   \n",
       "2  http://www.lightoftheworldchurchofchrist.com/            10:00 AM   \n",
       "3                         https://fgtdallas.org/  10:00 am / 7:00 pm   \n",
       "4                  https://dallascitytemple.org/            11:00 AM   \n",
       "\n",
       "  Service_day  Weekday_service  \n",
       "0      Sunday              NaN  \n",
       "1      Sunday              NaN  \n",
       "2      Sunday              NaN  \n",
       "3      Sunday              NaN  \n",
       "4     Sabbath              NaN  "
      ]
     },
     "execution_count": 169,
     "metadata": {},
     "output_type": "execute_result"
    }
   ],
   "source": [
    "data.head()"
   ]
  },
  {
   "cell_type": "markdown",
   "id": "719e63f5",
   "metadata": {},
   "source": [
    "# Data exploration\n",
    "\n",
    "We will explore the dataset to understand the distribution and characteristics of the data. This will involve examining the variables and their relationships."
   ]
  },
  {
   "cell_type": "code",
   "execution_count": 170,
   "id": "0afd1036",
   "metadata": {},
   "outputs": [
    {
     "data": {
      "text/plain": [
       "(50, 12)"
      ]
     },
     "execution_count": 170,
     "metadata": {},
     "output_type": "execute_result"
    }
   ],
   "source": [
    "data.shape"
   ]
  },
  {
   "cell_type": "code",
   "execution_count": 171,
   "id": "5e8da399",
   "metadata": {},
   "outputs": [
    {
     "data": {
      "text/plain": [
       "Index(['church_name', 'church_address', 'Latitude', 'Longitude',\n",
       "       'church_phone ', 'church_denomination', 'church_social_url',\n",
       "       'Demography by size', 'Church_website', 'Service_time', 'Service_day',\n",
       "       'Weekday_service'],\n",
       "      dtype='object')"
      ]
     },
     "execution_count": 171,
     "metadata": {},
     "output_type": "execute_result"
    }
   ],
   "source": [
    "data.columns"
   ]
  },
  {
   "cell_type": "code",
   "execution_count": 172,
   "id": "daccdda7",
   "metadata": {},
   "outputs": [
    {
     "name": "stdout",
     "output_type": "stream",
     "text": [
      "church_name             object\n",
      "church_address          object\n",
      "Latitude               float64\n",
      "Longitude              float64\n",
      "church_phone            object\n",
      "church_denomination     object\n",
      "church_social_url       object\n",
      "Demography by size      object\n",
      "Church_website          object\n",
      "Service_time            object\n",
      "Service_day             object\n",
      "Weekday_service        float64\n",
      "dtype: object\n"
     ]
    }
   ],
   "source": [
    "# Check the data types of each column\n",
    "print(data.dtypes)"
   ]
  },
  {
   "cell_type": "code",
   "execution_count": 173,
   "id": "3404d579",
   "metadata": {},
   "outputs": [
    {
     "name": "stdout",
     "output_type": "stream",
     "text": [
      "church_name             0\n",
      "church_address          0\n",
      "Latitude                0\n",
      "Longitude               0\n",
      "church_phone            1\n",
      "church_denomination     1\n",
      "church_social_url       7\n",
      "Demography by size      4\n",
      "Church_website          7\n",
      "Service_time            6\n",
      "Service_day             1\n",
      "Weekday_service        50\n",
      "dtype: int64\n"
     ]
    }
   ],
   "source": [
    "# Check for missing values\n",
    "print(data.isnull().sum())"
   ]
  },
  {
   "cell_type": "code",
   "execution_count": 174,
   "id": "abb70761",
   "metadata": {},
   "outputs": [
    {
     "name": "stdout",
     "output_type": "stream",
     "text": [
      "0\n"
     ]
    }
   ],
   "source": [
    "print(data.duplicated().sum())"
   ]
  },
  {
   "cell_type": "code",
   "execution_count": 175,
   "id": "31c35782",
   "metadata": {},
   "outputs": [
    {
     "data": {
      "text/html": [
       "<div>\n",
       "<style scoped>\n",
       "    .dataframe tbody tr th:only-of-type {\n",
       "        vertical-align: middle;\n",
       "    }\n",
       "\n",
       "    .dataframe tbody tr th {\n",
       "        vertical-align: top;\n",
       "    }\n",
       "\n",
       "    .dataframe thead th {\n",
       "        text-align: right;\n",
       "    }\n",
       "</style>\n",
       "<table border=\"1\" class=\"dataframe\">\n",
       "  <thead>\n",
       "    <tr style=\"text-align: right;\">\n",
       "      <th></th>\n",
       "      <th>Latitude</th>\n",
       "      <th>Longitude</th>\n",
       "      <th>Weekday_service</th>\n",
       "    </tr>\n",
       "  </thead>\n",
       "  <tbody>\n",
       "    <tr>\n",
       "      <th>count</th>\n",
       "      <td>50.000000</td>\n",
       "      <td>50.000000</td>\n",
       "      <td>0.0</td>\n",
       "    </tr>\n",
       "    <tr>\n",
       "      <th>mean</th>\n",
       "      <td>32.741776</td>\n",
       "      <td>-92.934065</td>\n",
       "      <td>NaN</td>\n",
       "    </tr>\n",
       "    <tr>\n",
       "      <th>std</th>\n",
       "      <td>0.061092</td>\n",
       "      <td>27.387222</td>\n",
       "      <td>NaN</td>\n",
       "    </tr>\n",
       "    <tr>\n",
       "      <th>min</th>\n",
       "      <td>32.644740</td>\n",
       "      <td>-96.888487</td>\n",
       "      <td>NaN</td>\n",
       "    </tr>\n",
       "    <tr>\n",
       "      <th>25%</th>\n",
       "      <td>32.692216</td>\n",
       "      <td>-96.857117</td>\n",
       "      <td>NaN</td>\n",
       "    </tr>\n",
       "    <tr>\n",
       "      <th>50%</th>\n",
       "      <td>32.726920</td>\n",
       "      <td>-96.803890</td>\n",
       "      <td>NaN</td>\n",
       "    </tr>\n",
       "    <tr>\n",
       "      <th>75%</th>\n",
       "      <td>32.783751</td>\n",
       "      <td>-96.768401</td>\n",
       "      <td>NaN</td>\n",
       "    </tr>\n",
       "    <tr>\n",
       "      <th>max</th>\n",
       "      <td>32.909259</td>\n",
       "      <td>96.849290</td>\n",
       "      <td>NaN</td>\n",
       "    </tr>\n",
       "  </tbody>\n",
       "</table>\n",
       "</div>"
      ],
      "text/plain": [
       "        Latitude  Longitude  Weekday_service\n",
       "count  50.000000  50.000000              0.0\n",
       "mean   32.741776 -92.934065              NaN\n",
       "std     0.061092  27.387222              NaN\n",
       "min    32.644740 -96.888487              NaN\n",
       "25%    32.692216 -96.857117              NaN\n",
       "50%    32.726920 -96.803890              NaN\n",
       "75%    32.783751 -96.768401              NaN\n",
       "max    32.909259  96.849290              NaN"
      ]
     },
     "execution_count": 175,
     "metadata": {},
     "output_type": "execute_result"
    }
   ],
   "source": [
    "#check the statistics\n",
    "data.describe()"
   ]
  },
  {
   "cell_type": "markdown",
   "id": "6e016ce6",
   "metadata": {},
   "source": [
    "# Data cleaning\n",
    "\n",
    "We will start by cleaning the dataset, removing any unnecessary columns and handling missing values, if any."
   ]
  },
  {
   "cell_type": "code",
   "execution_count": 176,
   "id": "4dd54723",
   "metadata": {},
   "outputs": [],
   "source": [
    "# Drop irrelevant columns\n",
    "data = data.drop(['Weekday_service'], axis=1)"
   ]
  },
  {
   "cell_type": "code",
   "execution_count": 177,
   "id": "bda7ddf9",
   "metadata": {},
   "outputs": [],
   "source": [
    "# Remove any leading/trailing whitespaces from string columns\n",
    "data[\"church_name\"] = data[\"church_name\"].str.strip()\n",
    "data[\"church_address\"] = data[\"church_address\"].str.strip()\n",
    "data[\"church_denomination\"] = data[\"church_denomination\"].str.strip()"
   ]
  },
  {
   "cell_type": "code",
   "execution_count": 178,
   "id": "f054eeba",
   "metadata": {},
   "outputs": [],
   "source": [
    "data['church_phone '] = data['church_phone '].str.strip()"
   ]
  },
  {
   "cell_type": "code",
   "execution_count": 179,
   "id": "81922bcf",
   "metadata": {},
   "outputs": [],
   "source": [
    "#remove the 'in' in the denomination to standardize it\n",
    "data['church_denomination'] = data['church_denomination'].str.replace('in', '').str.strip()\n"
   ]
  },
  {
   "cell_type": "code",
   "execution_count": 180,
   "id": "e2c17879",
   "metadata": {},
   "outputs": [
    {
     "name": "stderr",
     "output_type": "stream",
     "text": [
      "C:\\Users\\terre\\AppData\\Local\\Temp\\ipykernel_12680\\3551304535.py:3: FutureWarning:\n",
      "\n",
      "The default value of regex will change from True to False in a future version. In addition, single character regular expressions will *not* be treated as literal strings when regex=True.\n",
      "\n"
     ]
    }
   ],
   "source": [
    "# Remove non-numeric characters and dots, replace with hyphen\n",
    "# data['church_phone '] = data['church_phone '].str.replace('()', '', regex=True)\n",
    "data['church_phone '] = data['church_phone '].str.replace('(', '').str.replace('.', '-').str.replace(')', '-')\n"
   ]
  },
  {
   "cell_type": "code",
   "execution_count": 181,
   "id": "0387d307",
   "metadata": {},
   "outputs": [],
   "source": [
    "# Convert service time to a consistent format\n",
    "data[\"Service_time\"] = data[\"Service_time\"].str.replace(\"am\", \"AM\").str.replace(\"pm\", \"PM\")"
   ]
  },
  {
   "cell_type": "code",
   "execution_count": 182,
   "id": "ec520c17",
   "metadata": {},
   "outputs": [],
   "source": [
    "#filling the missing values with their mean\n",
    "data[\"Demography by size\"].fillna(data[\"Demography by size\"].mode(), inplace=True)"
   ]
  },
  {
   "cell_type": "code",
   "execution_count": 183,
   "id": "90037b81",
   "metadata": {},
   "outputs": [],
   "source": [
    "# Fill the empty values with 'N/A'\n",
    "data.fillna('N/A', inplace=True)"
   ]
  },
  {
   "cell_type": "code",
   "execution_count": 184,
   "id": "7035a141",
   "metadata": {},
   "outputs": [
    {
     "name": "stdout",
     "output_type": "stream",
     "text": [
      "church_name            0\n",
      "church_address         0\n",
      "Latitude               0\n",
      "Longitude              0\n",
      "church_phone           0\n",
      "church_denomination    0\n",
      "church_social_url      0\n",
      "Demography by size     0\n",
      "Church_website         0\n",
      "Service_time           0\n",
      "Service_day            0\n",
      "dtype: int64\n"
     ]
    }
   ],
   "source": [
    "# Check for missing values again\n",
    "print(data.isnull().sum())"
   ]
  },
  {
   "cell_type": "code",
   "execution_count": 185,
   "id": "f0c23284",
   "metadata": {},
   "outputs": [
    {
     "data": {
      "text/html": [
       "<div>\n",
       "<style scoped>\n",
       "    .dataframe tbody tr th:only-of-type {\n",
       "        vertical-align: middle;\n",
       "    }\n",
       "\n",
       "    .dataframe tbody tr th {\n",
       "        vertical-align: top;\n",
       "    }\n",
       "\n",
       "    .dataframe thead th {\n",
       "        text-align: right;\n",
       "    }\n",
       "</style>\n",
       "<table border=\"1\" class=\"dataframe\">\n",
       "  <thead>\n",
       "    <tr style=\"text-align: right;\">\n",
       "      <th></th>\n",
       "      <th>church_name</th>\n",
       "      <th>church_address</th>\n",
       "      <th>Latitude</th>\n",
       "      <th>Longitude</th>\n",
       "      <th>church_phone</th>\n",
       "      <th>church_denomination</th>\n",
       "      <th>church_social_url</th>\n",
       "      <th>Demography by size</th>\n",
       "      <th>Church_website</th>\n",
       "      <th>Service_time</th>\n",
       "      <th>Service_day</th>\n",
       "    </tr>\n",
       "  </thead>\n",
       "  <tbody>\n",
       "    <tr>\n",
       "      <th>0</th>\n",
       "      <td>Good Street Baptist Church</td>\n",
       "      <td>3110 Bonnie View Road, Dallas, Texas 75126, Un...</td>\n",
       "      <td>32.684058</td>\n",
       "      <td>-96.768401</td>\n",
       "      <td>214-375-4266</td>\n",
       "      <td>Baptist</td>\n",
       "      <td>https://www.facebook.com/churchwithaheart</td>\n",
       "      <td>Medium</td>\n",
       "      <td>https://www.goodstreetbaptistchurch.org/</td>\n",
       "      <td>11:00 AM</td>\n",
       "      <td>Sunday</td>\n",
       "    </tr>\n",
       "    <tr>\n",
       "      <th>1</th>\n",
       "      <td>Greenway Park Church of God in Christ</td>\n",
       "      <td>2002 Dennison St., Dallas, Texas 75212, United...</td>\n",
       "      <td>32.781801</td>\n",
       "      <td>-96.850516</td>\n",
       "      <td>214-638-0163</td>\n",
       "      <td>Church of God In Christ</td>\n",
       "      <td>https://www.facebook.com/people/Greenway-Park-...</td>\n",
       "      <td>Medium</td>\n",
       "      <td>http://greenwayparkchurch.org/</td>\n",
       "      <td>11:45 AM</td>\n",
       "      <td>Sunday</td>\n",
       "    </tr>\n",
       "    <tr>\n",
       "      <th>2</th>\n",
       "      <td>Light of the World Church of Christ</td>\n",
       "      <td>7408 South Hampton Rd, Dallas, Texas 75232, Un...</td>\n",
       "      <td>32.688866</td>\n",
       "      <td>-96.857011</td>\n",
       "      <td>469-567-8200</td>\n",
       "      <td>Church of Christ</td>\n",
       "      <td>https://www.facebook.com/people/Light-of-the-W...</td>\n",
       "      <td>Large</td>\n",
       "      <td>http://www.lightoftheworldchurchofchrist.com/</td>\n",
       "      <td>10:00 AM</td>\n",
       "      <td>Sunday</td>\n",
       "    </tr>\n",
       "    <tr>\n",
       "      <th>3</th>\n",
       "      <td>Full Gospel Tabernacle Church</td>\n",
       "      <td>623 E. Woodin, Dallas, Texas 75216, United States</td>\n",
       "      <td>32.722731</td>\n",
       "      <td>-96.810846</td>\n",
       "      <td>214-943-3760</td>\n",
       "      <td>Non Denomational</td>\n",
       "      <td>https://www.facebook.com/fg.dallas/</td>\n",
       "      <td>Large</td>\n",
       "      <td>https://fgtdallas.org/</td>\n",
       "      <td>10:00 AM / 7:00 PM</td>\n",
       "      <td>Sunday</td>\n",
       "    </tr>\n",
       "    <tr>\n",
       "      <th>4</th>\n",
       "      <td>Dallas City Temple Seventh Day Adventist</td>\n",
       "      <td>1530 Bonnie View Road, Dallas, Texas 75203, Un...</td>\n",
       "      <td>32.684058</td>\n",
       "      <td>-96.768401</td>\n",
       "      <td>214- 942-3870</td>\n",
       "      <td>Seventh-Day Adventist</td>\n",
       "      <td>https://twitter.com/DalCityTemple/</td>\n",
       "      <td>Mega</td>\n",
       "      <td>https://dallascitytemple.org/</td>\n",
       "      <td>11:00 AM</td>\n",
       "      <td>Sabbath</td>\n",
       "    </tr>\n",
       "  </tbody>\n",
       "</table>\n",
       "</div>"
      ],
      "text/plain": [
       "                                church_name  \\\n",
       "0                Good Street Baptist Church   \n",
       "1     Greenway Park Church of God in Christ   \n",
       "2       Light of the World Church of Christ   \n",
       "3             Full Gospel Tabernacle Church   \n",
       "4  Dallas City Temple Seventh Day Adventist   \n",
       "\n",
       "                                      church_address   Latitude  Longitude  \\\n",
       "0  3110 Bonnie View Road, Dallas, Texas 75126, Un...  32.684058 -96.768401   \n",
       "1  2002 Dennison St., Dallas, Texas 75212, United...  32.781801 -96.850516   \n",
       "2  7408 South Hampton Rd, Dallas, Texas 75232, Un...  32.688866 -96.857011   \n",
       "3  623 E. Woodin, Dallas, Texas 75216, United States  32.722731 -96.810846   \n",
       "4  1530 Bonnie View Road, Dallas, Texas 75203, Un...  32.684058 -96.768401   \n",
       "\n",
       "   church_phone       church_denomination  \\\n",
       "0   214-375-4266                  Baptist   \n",
       "1   214-638-0163  Church of God In Christ   \n",
       "2   469-567-8200         Church of Christ   \n",
       "3   214-943-3760         Non Denomational   \n",
       "4  214- 942-3870    Seventh-Day Adventist   \n",
       "\n",
       "                                   church_social_url Demography by size  \\\n",
       "0          https://www.facebook.com/churchwithaheart             Medium   \n",
       "1  https://www.facebook.com/people/Greenway-Park-...             Medium   \n",
       "2  https://www.facebook.com/people/Light-of-the-W...              Large   \n",
       "3                https://www.facebook.com/fg.dallas/              Large   \n",
       "4                 https://twitter.com/DalCityTemple/               Mega   \n",
       "\n",
       "                                  Church_website        Service_time  \\\n",
       "0       https://www.goodstreetbaptistchurch.org/            11:00 AM   \n",
       "1                 http://greenwayparkchurch.org/            11:45 AM   \n",
       "2  http://www.lightoftheworldchurchofchrist.com/            10:00 AM   \n",
       "3                         https://fgtdallas.org/  10:00 AM / 7:00 PM   \n",
       "4                  https://dallascitytemple.org/            11:00 AM   \n",
       "\n",
       "  Service_day  \n",
       "0      Sunday  \n",
       "1      Sunday  \n",
       "2      Sunday  \n",
       "3      Sunday  \n",
       "4     Sabbath  "
      ]
     },
     "execution_count": 185,
     "metadata": {},
     "output_type": "execute_result"
    }
   ],
   "source": [
    "#final assesement after the cleaning process\n",
    "data.head()"
   ]
  },
  {
   "cell_type": "code",
   "execution_count": 186,
   "id": "d64f55be",
   "metadata": {},
   "outputs": [],
   "source": [
    "# Save the updated dataset to a new CSV file\n",
    "data.to_csv('African_churches_cleaned1.csv', index=False)"
   ]
  },
  {
   "cell_type": "markdown",
   "id": "56d4b611",
   "metadata": {},
   "source": [
    "# Visualizations\n",
    "\n",
    "We will create various visualizations using different charts to present the data effectively and gain insights. We can use bar charts, pie charts, scatter plots, and other appropriate charts based on the nature of the data\n",
    "\n",
    "Visualizing these insights not only helps users make informed decisions but also enhances their browsing experience on the website. By presenting the data in a visually appealing and user-friendly manner, users can quickly grasp the information they need and narrow down their options to find the most suitable African church in Dallas."
   ]
  },
  {
   "cell_type": "markdown",
   "id": "a072fb33",
   "metadata": {},
   "source": [
    "Insight\n",
    "\n",
    "Church Size and Growth: Present visualizations indicating the size of African churches in terms of membership or congregation showing the growth or decline in membership over time. Users can gain insights into the vibrancy and stability of different churches."
   ]
  },
  {
   "cell_type": "code",
   "execution_count": 188,
   "id": "4119423d",
   "metadata": {},
   "outputs": [],
   "source": [
    "# Count the number of churches by service day\n",
    "Demography = data['Demography by size'].value_counts()"
   ]
  },
  {
   "cell_type": "code",
   "execution_count": 189,
   "id": "a766bd9e",
   "metadata": {},
   "outputs": [
    {
     "data": {
      "image/png": "[encoded data removed]",
      "text/plain": [
       "<Figure size 800x800 with 1 Axes>"
      ]
     },
     "metadata": {},
     "output_type": "display_data"
    }
   ],
   "source": [
    "# Create a pie chart of service days\n",
    "plt.figure(figsize=(8, 8))\n",
    "plt.pie(Demography.values, labels=Demography.index, autopct='%1.1f%%')\n",
    "plt.title('Churches Demography')\n",
    "# Save the chart as a PNG file\n",
    "plt.savefig('Demography by size.png')\n",
    "plt.show()"
   ]
  },
  {
   "cell_type": "markdown",
   "id": "8b3c724b",
   "metadata": {},
   "source": [
    "Insight\n",
    "\n",
    "Service Schedules: A visual representations of service schedules, allowing users to see the days and times when churches hold their worship services. "
   ]
  },
  {
   "cell_type": "code",
   "execution_count": 191,
   "id": "44ddfcc2",
   "metadata": {},
   "outputs": [
    {
     "data": {
      "image/png": "[encoded data removed]",
      "text/plain": [
       "<Figure size 800x600 with 1 Axes>"
      ]
     },
     "metadata": {},
     "output_type": "display_data"
    }
   ],
   "source": [
    "# Create a bar plot of service day frequencies\n",
    "plt.figure(figsize=(8, 6))\n",
    "sns.countplot(data=data, x=\"Service_day\")\n",
    "plt.title(\"Service Day Frequencies\")\n",
    "plt.xlabel(\"Service Day\")\n",
    "plt.ylabel(\"Frequency\")\n",
    "# Save the chart as a PNG file\n",
    "plt.savefig('Service_Days.png')\n",
    "plt.show()"
   ]
  },
  {
   "cell_type": "markdown",
   "id": "0da4e185",
   "metadata": {},
   "source": [
    "Insight\n",
    "\n",
    "Denominational Affiliations: Visualizations to showcase the denominational affiliations of African churches in Dallas."
   ]
  },
  {
   "cell_type": "code",
   "execution_count": 187,
   "id": "ae103a33",
   "metadata": {},
   "outputs": [
    {
     "data": {
      "image/png": "[encoded data removed]",
      "text/plain": [
       "<Figure size 1200x600 with 1 Axes>"
      ]
     },
     "metadata": {},
     "output_type": "display_data"
    }
   ],
   "source": [
    "# Plot a count of churches by denomination\n",
    "plt.figure(figsize=(12, 6))\n",
    "sns.countplot(data=data, y=\"church_denomination\")\n",
    "plt.title(\"Count of Churches by Denomination\")\n",
    "plt.xlabel(\"Count\")\n",
    "plt.ylabel(\"Denomination\")\n",
    "# Save the chart as a PNG file\n",
    "plt.savefig('church_deomination1.png')\n",
    "plt.show()"
   ]
  },
  {
   "cell_type": "markdown",
   "id": "4a8cc445",
   "metadata": {},
   "source": [
    "Insight\n",
    "\n",
    "Geographic Distribution: Visualize the locations of African churches on a map of Dallas, highlighting the concentration of churches in different neighborhoods or areas. This helps users identify churches that are closer to their residential or work locations, making it easier for them to find a church that suits their convenience."
   ]
  },
  {
   "cell_type": "code",
   "execution_count": 196,
   "id": "b660daa1",
   "metadata": {},
   "outputs": [
    {
     "data": {
      "image/png": "[encoded data removed]",
      "text/plain": [
       "<Figure size 1000x800 with 1 Axes>"
      ]
     },
     "metadata": {},
     "output_type": "display_data"
    }
   ],
   "source": [
    "# Plot a scatter plot of church locations\n",
    "plt.figure(figsize=(10, 8))\n",
    "sns.scatterplot(data=data, x=\"Longitude\", y=\"Latitude\", hue=\"church_denomination\", palette=\"Set1\")\n",
    "plt.title(\"Church Locations\")\n",
    "plt.xlabel(\"Longitude\")\n",
    "plt.ylabel(\"Latitude\")\n",
    "# Save the chart as a PNG file\n",
    "plt.savefig('Church_Locations.png')\n",
    "plt.show()"
   ]
  },
  {
   "cell_type": "code",
   "execution_count": 197,
   "id": "bb94be4a",
   "metadata": {},
   "outputs": [
    {
     "data": {
      "application/vnd.plotly.v1+json": {
       "config": {
        "plotlyServerURL": "https://plot.ly"
       },
       "data": [
        {
         "customdata": [
          [
           "3110 Bonnie View Road, Dallas, Texas 75126, United States"
          ],
          [
           "2002 Dennison St., Dallas, Texas 75212, United States"
          ],
          [
           "7408 South Hampton Rd, Dallas, Texas 75232, United States"
          ],
          [
           "623 E. Woodin, Dallas, Texas 75216, United States"
          ],
          [
           "1530 Bonnie View Road, Dallas, Texas 75203, United States"
          ],
          [
           "6725 Tyree Street, Dallas, Texas 75209, United States"
          ],
          [
           "2817 Cherry Valley Blvd., Dallas, Texas 75241, United States"
          ],
          [
           "2423 S. Buckner Blvd., Dallas, Texas 75227, United States"
          ],
          [
           "1403 Morrell Ave., Dallas, Texas 75203, United States"
          ],
          [
           "3407 N Westmoreland, Dallas, Texas 75212, United States"
          ],
          [
           "3317 Morris St, Dallas, Texas 75212, United States"
          ],
          [
           "4122 Kilgore, Dallas, Texas 75212, United States"
          ],
          [
           "4325 W. Ledbetter Dr., Dallas, Texas 75233, United States"
          ],
          [
           "1212 E Kiest Blvd, Dallas, Texas 75216, United States"
          ],
          [
           "831 E. Ann Arbor Rd, Dallas, Texas 75216, United States"
          ],
          [
           "2020 West Wheatland Rd., Dallas, Texas, United States"
          ],
          [
           "6808 Pastor Bailey Dr, Dallas, Texas 75237, United States"
          ],
          [
           "1831 Canada Dr., Dallas, Texas 75212, United States"
          ],
          [
           "2406 Childs St, Dallas, Texas 75203, United States"
          ],
          [
           "7550 South Hampton Rd., Dallas, Texas 75232, United States"
          ],
          [
           "1910 N. St. Augustine Rd., Dallas, Texas 75217, United States"
          ],
          [
           "9550 Shepherd Road, Dallas, Texas 75243, United States"
          ],
          [
           "4943 Bonnie View Rd, Dallas, Texas 75241, United States"
          ],
          [
           "2325 Locust Ave, Dallas, Texas 75216, United States"
          ],
          [
           "5726 Van Winkle Boulevard, Dallas, Texas 75235, United States"
          ],
          [
           "2431 S. Marsalis Avenue, Dallas, Texas 75216, United States"
          ],
          [
           "6702 Victoria Ave, Dallas, Texas 75209, United States"
          ],
          [
           "2510 E. Ledbetter Rd., Dallas, Texas 75216, United States"
          ],
          [
           "5002 S. Central Expressway, Dallas, Texas 75215, United States"
          ],
          [
           "2828 Carpenter Ave, Dallas, Texas 75215, United States"
          ],
          [
           "6777 W. Kiest Blvd, Dallas, Texas 75236, United States"
          ],
          [
           "3305 Canada Dr, Dallas, Texas 75212, United States"
          ],
          [
           "1323 South Ewing Avenue, Dallas, Texas 75216, United States"
          ],
          [
           "3715 S. Westmoreland, Dallas, Texas 75237, United States"
          ],
          [
           "1819 N. Washington Ave., Dallas, Texas 75204, United States"
          ],
          [
           "6000 Singing Hills Dr, Dallas, Texas 75241, United States"
          ],
          [
           "1808 W.Camp Wisdom Rd., Dallas, Texas 75232, United States"
          ],
          [
           "3767 Forest Lane, Dallas, Texas 75244, United States"
          ],
          [
           "6722 Bexar St, Dallas, Texas 75215, United States"
          ],
          [
           "4575 R. L. Thornton Frwy, Dallas, Texas 75224, United States"
          ],
          [
           "1600 Pear Street, Dallas, Texas 75215, United States"
          ],
          [
           "7701 S. Westmoreland Ave., Dallas, Texas 75237, United States"
          ],
          [
           "2920 Fordham Rd., Dallas, Texas 75216, United States"
          ],
          [
           "1816 Routh Street , Dallas, Texas 75201, United States"
          ],
          [
           "3430 Nomas St, Dallas, Texas 75212, United States"
          ],
          [
           "2515 South Denley Dr., Dallas, Texas 75216, United States"
          ],
          [
           "1502 South Haskell Ave, Dallas, Texas 75223, United States"
          ],
          [
           "200 N. Jim Miller, Dallas, Texas 75217, United States"
          ],
          [
           "26oo South Marsalis Avenue, Dallas, Texas 75216, United States"
          ],
          [
           "1916 Prairie View Drive\r\nDallas, TX 75235"
          ]
         ],
         "hovertemplate": "<b>%{hovertext}</b><br><br>Latitude=%{lat}<br>Longitude=%{lon}<br>church_address=%{customdata[0]}<extra></extra>",
         "hovertext": [
          "Good Street Baptist Church",
          "Greenway Park Church of God in Christ",
          "Light of the World Church of Christ",
          "Full Gospel Tabernacle Church",
          "Dallas City Temple Seventh Day Adventist",
          "North Park CME Church",
          "Cornerstone Community Church",
          "Christ Holy Temple COGIC",
          "Greater Mount Pleasant Baptist Church",
          "Victory Cathedral Church of God in Christ",
          "New Mount Calvary Baptist Church",
          "Bibleway Church of God In Christ",
          "Divine Inspration Missionary Baptist",
          "Mount Zion Church of God in Christ",
          "United Missionary Baptist Church",
          "Friendship West Baptist Church",
          "Concord Missionary Baptist Church",
          "Leath Street Missionary Baptist Church",
          "Smith Chapel AME Church",
          "Antioch Fellowship Missionary Baptist Church",
          "Pleasant Zion Missionary Baptist Church",
          "New Mount Zion Baptist Church",
          "Burning Bush Baptist Church",
          "Southern Crest Full Gospel Baptist Church",
          "Arlington Park First Baptist Church",
          "Marsalis Avenue Church of Christ",
          "St. Luke Missionary Baptist Church",
          "Carver Heights Baptist Church",
          "New Hope Baptist Church",
          "Garth Chapel AME Church",
          "The Potters House (Dallas)",
          "New Beginning Covenant Ministry",
          "Ewing Avenue Baptist Church",
          "Freedom Missionary Baptist Church",
          "Pilgrim Rest Missionary Baptist Church",
          "St. Phillips Missionary Baptist Church",
          "Oak Cliff Bible Fellowship",
          "Christian Temple Worship Center",
          "The Lords Missionary Baptist Church",
          "Temple Of Prayer Christian Fellowship",
          "St. Paul Baptist Church",
          "Inspiring Body of Christ Church",
          "Community Baptist Church",
          "St. Paul United Methodist Church",
          "Peoples Chapel AME Church",
          "Tel-Star Missionary BC",
          "Gaines Chapel",
          "Saint James AME Church",
          "St. John Missionary Baptist Church",
          "Brethren of Christ Agape Family Church"
         ],
         "lat": [
          32.684058,
          32.7818006,
          32.6888663,
          32.7227307,
          32.684058,
          32.840079,
          32.6447404,
          32.7560057,
          32.7399582,
          32.7741322,
          32.7837653,
          32.7927497,
          32.6912155,
          32.7124064,
          32.6913187,
          32.6474701,
          32.6677878,
          32.7926386,
          32.7427053,
          32.6888663,
          32.7305242,
          32.9071585,
          32.684058,
          32.7023412,
          32.8159984,
          32.7119105,
          32.8395474,
          32.6901717,
          32.7068375,
          32.762775,
          32.705827,
          32.7926386,
          32.7233165,
          32.6949076,
          32.7948076,
          32.6788196,
          32.6622149,
          32.9092588,
          32.7441071,
          32.7965578,
          32.7514742,
          32.6949076,
          32.703429,
          32.797667,
          32.7809449,
          32.7099713,
          32.783708,
          32.7579678,
          32.7119105,
          32.7741322
         ],
         "legendgroup": "",
         "lon": [
          -96.768401,
          -96.8505156,
          -96.8570108,
          -96.8108461,
          -96.768401,
          -96.8322274,
          -96.7795502,
          -96.6829126,
          -96.7954294,
          -96.8737705,
          -96.8737327,
          -96.885507,
          -96.8731152,
          -96.7979528,
          -96.8232909,
          -96.8874666,
          -96.874268,
          -96.8661604,
          -96.7909176,
          -96.8570108,
          -96.656943,
          -96.7502706,
          -96.768401,
          -96.7826838,
          -96.8574518,
          -96.8145161,
          -96.8311969,
          -96.7897249,
          -96.7496854,
          -96.7503692,
          -96.8884872,
          -96.8661604,
          -96.810833,
          -96.8788858,
          -96.7824792,
          -96.8014509,
          -96.8571529,
          -96.771637,
          -96.7534691,
          -96.6872202,
          -96.7656617,
          -96.8788858,
          -96.7888191,
          -96.803276,
          -96.8434775,
          -96.8045037,
          -96.7541139,
          -96.7017577,
          -96.8145161,
          -96.8737705
         ],
         "marker": {
          "color": "#636efa"
         },
         "mode": "markers",
         "name": "",
         "showlegend": false,
         "subplot": "mapbox",
         "type": "scattermapbox"
        }
       ],
       "layout": {
        "legend": {
         "tracegroupgap": 0
        },
        "mapbox": {
         "center": {
          "lat": 32.740944864,
          "lon": -96.80852573999996
         },
         "domain": {
          "x": [
           0,
           1
          ],
          "y": [
           0,
           1
          ]
         },
         "style": "open-street-map",
         "zoom": 10
        },
        "margin": {
         "t": 60
        },
        "template": {
         "data": {
          "bar": [
           {
            "error_x": {
             "color": "#2a3f5f"
            },
            "error_y": {
             "color": "#2a3f5f"
            },
            "marker": {
             "line": {
              "color": "#E5ECF6",
              "width": 0.5
             },
             "pattern": {
              "fillmode": "overlay",
              "size": 10,
              "solidity": 0.2
             }
            },
            "type": "bar"
           }
          ],
          "barpolar": [
           {
            "marker": {
             "line": {
              "color": "#E5ECF6",
              "width": 0.5
             },
             "pattern": {
              "fillmode": "overlay",
              "size": 10,
              "solidity": 0.2
             }
            },
            "type": "barpolar"
           }
          ],
          "carpet": [
           {
            "aaxis": {
             "endlinecolor": "#2a3f5f",
             "gridcolor": "white",
             "linecolor": "white",
             "minorgridcolor": "white",
             "startlinecolor": "#2a3f5f"
            },
            "baxis": {
             "endlinecolor": "#2a3f5f",
             "gridcolor": "white",
             "linecolor": "white",
             "minorgridcolor": "white",
             "startlinecolor": "#2a3f5f"
            },
            "type": "carpet"
           }
          ],
          "choropleth": [
           {
            "colorbar": {
             "outlinewidth": 0,
             "ticks": ""
            },
            "type": "choropleth"
           }
          ],
          "contour": [
           {
            "colorbar": {
             "outlinewidth": 0,
             "ticks": ""
            },
            "colorscale": [
             [
              0,
              "#0d0887"
             ],
             [
              0.1111111111111111,
              "#46039f"
             ],
             [
              0.2222222222222222,
              "#7201a8"
             ],
             [
              0.3333333333333333,
              "#9c179e"
             ],
             [
              0.4444444444444444,
              "#bd3786"
             ],
             [
              0.5555555555555556,
              "#d8576b"
             ],
             [
              0.6666666666666666,
              "#ed7953"
             ],
             [
              0.7777777777777778,
              "#fb9f3a"
             ],
             [
              0.8888888888888888,
              "#fdca26"
             ],
             [
              1,
              "#f0f921"
             ]
            ],
            "type": "contour"
           }
          ],
          "contourcarpet": [
           {
            "colorbar": {
             "outlinewidth": 0,
             "ticks": ""
            },
            "type": "contourcarpet"
           }
          ],
          "heatmap": [
           {
            "colorbar": {
             "outlinewidth": 0,
             "ticks": ""
            },
            "colorscale": [
             [
              0,
              "#0d0887"
             ],
             [
              0.1111111111111111,
              "#46039f"
             ],
             [
              0.2222222222222222,
              "#7201a8"
             ],
             [
              0.3333333333333333,
              "#9c179e"
             ],
             [
              0.4444444444444444,
              "#bd3786"
             ],
             [
              0.5555555555555556,
              "#d8576b"
             ],
             [
              0.6666666666666666,
              "#ed7953"
             ],
             [
              0.7777777777777778,
              "#fb9f3a"
             ],
             [
              0.8888888888888888,
              "#fdca26"
             ],
             [
              1,
              "#f0f921"
             ]
            ],
            "type": "heatmap"
           }
          ],
          "heatmapgl": [
           {
            "colorbar": {
             "outlinewidth": 0,
             "ticks": ""
            },
            "colorscale": [
             [
              0,
              "#0d0887"
             ],
             [
              0.1111111111111111,
              "#46039f"
             ],
             [
              0.2222222222222222,
              "#7201a8"
             ],
             [
              0.3333333333333333,
              "#9c179e"
             ],
             [
              0.4444444444444444,
              "#bd3786"
             ],
             [
              0.5555555555555556,
              "#d8576b"
             ],
             [
              0.6666666666666666,
              "#ed7953"
             ],
             [
              0.7777777777777778,
              "#fb9f3a"
             ],
             [
              0.8888888888888888,
              "#fdca26"
             ],
             [
              1,
              "#f0f921"
             ]
            ],
            "type": "heatmapgl"
           }
          ],
          "histogram": [
           {
            "marker": {
             "pattern": {
              "fillmode": "overlay",
              "size": 10,
              "solidity": 0.2
             }
            },
            "type": "histogram"
           }
          ],
          "histogram2d": [
           {
            "colorbar": {
             "outlinewidth": 0,
             "ticks": ""
            },
            "colorscale": [
             [
              0,
              "#0d0887"
             ],
             [
              0.1111111111111111,
              "#46039f"
             ],
             [
              0.2222222222222222,
              "#7201a8"
             ],
             [
              0.3333333333333333,
              "#9c179e"
             ],
             [
              0.4444444444444444,
              "#bd3786"
             ],
             [
              0.5555555555555556,
              "#d8576b"
             ],
             [
              0.6666666666666666,
              "#ed7953"
             ],
             [
              0.7777777777777778,
              "#fb9f3a"
             ],
             [
              0.8888888888888888,
              "#fdca26"
             ],
             [
              1,
              "#f0f921"
             ]
            ],
            "type": "histogram2d"
           }
          ],
          "histogram2dcontour": [
           {
            "colorbar": {
             "outlinewidth": 0,
             "ticks": ""
            },
            "colorscale": [
             [
              0,
              "#0d0887"
             ],
             [
              0.1111111111111111,
              "#46039f"
             ],
             [
              0.2222222222222222,
              "#7201a8"
             ],
             [
              0.3333333333333333,
              "#9c179e"
             ],
             [
              0.4444444444444444,
              "#bd3786"
             ],
             [
              0.5555555555555556,
              "#d8576b"
             ],
             [
              0.6666666666666666,
              "#ed7953"
             ],
             [
              0.7777777777777778,
              "#fb9f3a"
             ],
             [
              0.8888888888888888,
              "#fdca26"
             ],
             [
              1,
              "#f0f921"
             ]
            ],
            "type": "histogram2dcontour"
           }
          ],
          "mesh3d": [
           {
            "colorbar": {
             "outlinewidth": 0,
             "ticks": ""
            },
            "type": "mesh3d"
           }
          ],
          "parcoords": [
           {
            "line": {
             "colorbar": {
              "outlinewidth": 0,
              "ticks": ""
             }
            },
            "type": "parcoords"
           }
          ],
          "pie": [
           {
            "automargin": true,
            "type": "pie"
           }
          ],
          "scatter": [
           {
            "fillpattern": {
             "fillmode": "overlay",
             "size": 10,
             "solidity": 0.2
            },
            "type": "scatter"
           }
          ],
          "scatter3d": [
           {
            "line": {
             "colorbar": {
              "outlinewidth": 0,
              "ticks": ""
             }
            },
            "marker": {
             "colorbar": {
              "outlinewidth": 0,
              "ticks": ""
             }
            },
            "type": "scatter3d"
           }
          ],
          "scattercarpet": [
           {
            "marker": {
             "colorbar": {
              "outlinewidth": 0,
              "ticks": ""
             }
            },
            "type": "scattercarpet"
           }
          ],
          "scattergeo": [
           {
            "marker": {
             "colorbar": {
              "outlinewidth": 0,
              "ticks": ""
             }
            },
            "type": "scattergeo"
           }
          ],
          "scattergl": [
           {
            "marker": {
             "colorbar": {
              "outlinewidth": 0,
              "ticks": ""
             }
            },
            "type": "scattergl"
           }
          ],
          "scattermapbox": [
           {
            "marker": {
             "colorbar": {
              "outlinewidth": 0,
              "ticks": ""
             }
            },
            "type": "scattermapbox"
           }
          ],
          "scatterpolar": [
           {
            "marker": {
             "colorbar": {
              "outlinewidth": 0,
              "ticks": ""
             }
            },
            "type": "scatterpolar"
           }
          ],
          "scatterpolargl": [
           {
            "marker": {
             "colorbar": {
              "outlinewidth": 0,
              "ticks": ""
             }
            },
            "type": "scatterpolargl"
           }
          ],
          "scatterternary": [
           {
            "marker": {
             "colorbar": {
              "outlinewidth": 0,
              "ticks": ""
             }
            },
            "type": "scatterternary"
           }
          ],
          "surface": [
           {
            "colorbar": {
             "outlinewidth": 0,
             "ticks": ""
            },
            "colorscale": [
             [
              0,
              "#0d0887"
             ],
             [
              0.1111111111111111,
              "#46039f"
             ],
             [
              0.2222222222222222,
              "#7201a8"
             ],
             [
              0.3333333333333333,
              "#9c179e"
             ],
             [
              0.4444444444444444,
              "#bd3786"
             ],
             [
              0.5555555555555556,
              "#d8576b"
             ],
             [
              0.6666666666666666,
              "#ed7953"
             ],
             [
              0.7777777777777778,
              "#fb9f3a"
             ],
             [
              0.8888888888888888,
              "#fdca26"
             ],
             [
              1,
              "#f0f921"
             ]
            ],
            "type": "surface"
           }
          ],
          "table": [
           {
            "cells": {
             "fill": {
              "color": "#EBF0F8"
             },
             "line": {
              "color": "white"
             }
            },
            "header": {
             "fill": {
              "color": "#C8D4E3"
             },
             "line": {
              "color": "white"
             }
            },
            "type": "table"
           }
          ]
         },
         "layout": {
          "annotationdefaults": {
           "arrowcolor": "#2a3f5f",
           "arrowhead": 0,
           "arrowwidth": 1
          },
          "autotypenumbers": "strict",
          "coloraxis": {
           "colorbar": {
            "outlinewidth": 0,
            "ticks": ""
           }
          },
          "colorscale": {
           "diverging": [
            [
             0,
             "#8e0152"
            ],
            [
             0.1,
             "#c51b7d"
            ],
            [
             0.2,
             "#de77ae"
            ],
            [
             0.3,
             "#f1b6da"
            ],
            [
             0.4,
             "#fde0ef"
            ],
            [
             0.5,
             "#f7f7f7"
            ],
            [
             0.6,
             "#e6f5d0"
            ],
            [
             0.7,
             "#b8e186"
            ],
            [
             0.8,
             "#7fbc41"
            ],
            [
             0.9,
             "#4d9221"
            ],
            [
             1,
             "#276419"
            ]
           ],
           "sequential": [
            [
             0,
             "#0d0887"
            ],
            [
             0.1111111111111111,
             "#46039f"
            ],
            [
             0.2222222222222222,
             "#7201a8"
            ],
            [
             0.3333333333333333,
             "#9c179e"
            ],
            [
             0.4444444444444444,
             "#bd3786"
            ],
            [
             0.5555555555555556,
             "#d8576b"
            ],
            [
             0.6666666666666666,
             "#ed7953"
            ],
            [
             0.7777777777777778,
             "#fb9f3a"
            ],
            [
             0.8888888888888888,
             "#fdca26"
            ],
            [
             1,
             "#f0f921"
            ]
           ],
           "sequentialminus": [
            [
             0,
             "#0d0887"
            ],
            [
             0.1111111111111111,
             "#46039f"
            ],
            [
             0.2222222222222222,
             "#7201a8"
            ],
            [
             0.3333333333333333,
             "#9c179e"
            ],
            [
             0.4444444444444444,
             "#bd3786"
            ],
            [
             0.5555555555555556,
             "#d8576b"
            ],
            [
             0.6666666666666666,
             "#ed7953"
            ],
            [
             0.7777777777777778,
             "#fb9f3a"
            ],
            [
             0.8888888888888888,
             "#fdca26"
            ],
            [
             1,
             "#f0f921"
            ]
           ]
          },
          "colorway": [
           "#636efa",
           "#EF553B",
           "#00cc96",
           "#ab63fa",
           "#FFA15A",
           "#19d3f3",
           "#FF6692",
           "#B6E880",
           "#FF97FF",
           "#FECB52"
          ],
          "font": {
           "color": "#2a3f5f"
          },
          "geo": {
           "bgcolor": "white",
           "lakecolor": "white",
           "landcolor": "#E5ECF6",
           "showlakes": true,
           "showland": true,
           "subunitcolor": "white"
          },
          "hoverlabel": {
           "align": "left"
          },
          "hovermode": "closest",
          "mapbox": {
           "style": "light"
          },
          "paper_bgcolor": "white",
          "plot_bgcolor": "#E5ECF6",
          "polar": {
           "angularaxis": {
            "gridcolor": "white",
            "linecolor": "white",
            "ticks": ""
           },
           "bgcolor": "#E5ECF6",
           "radialaxis": {
            "gridcolor": "white",
            "linecolor": "white",
            "ticks": ""
           }
          },
          "scene": {
           "xaxis": {
            "backgroundcolor": "#E5ECF6",
            "gridcolor": "white",
            "gridwidth": 2,
            "linecolor": "white",
            "showbackground": true,
            "ticks": "",
            "zerolinecolor": "white"
           },
           "yaxis": {
            "backgroundcolor": "#E5ECF6",
            "gridcolor": "white",
            "gridwidth": 2,
            "linecolor": "white",
            "showbackground": true,
            "ticks": "",
            "zerolinecolor": "white"
           },
           "zaxis": {
            "backgroundcolor": "#E5ECF6",
            "gridcolor": "white",
            "gridwidth": 2,
            "linecolor": "white",
            "showbackground": true,
            "ticks": "",
            "zerolinecolor": "white"
           }
          },
          "shapedefaults": {
           "line": {
            "color": "#2a3f5f"
           }
          },
          "ternary": {
           "aaxis": {
            "gridcolor": "white",
            "linecolor": "white",
            "ticks": ""
           },
           "baxis": {
            "gridcolor": "white",
            "linecolor": "white",
            "ticks": ""
           },
           "bgcolor": "#E5ECF6",
           "caxis": {
            "gridcolor": "white",
            "linecolor": "white",
            "ticks": ""
           }
          },
          "title": {
           "x": 0.05
          },
          "xaxis": {
           "automargin": true,
           "gridcolor": "white",
           "linecolor": "white",
           "ticks": "",
           "title": {
            "standoff": 15
           },
           "zerolinecolor": "white",
           "zerolinewidth": 2
          },
          "yaxis": {
           "automargin": true,
           "gridcolor": "white",
           "linecolor": "white",
           "ticks": "",
           "title": {
            "standoff": 15
           },
           "zerolinecolor": "white",
           "zerolinewidth": 2
          }
         }
        },
        "title": {
         "text": "Geographic Distribution of African Churches in Dallas"
        }
       }
      },
      "text/html": [
       "<div>                            <div id=\"3a5e9964-d69a-4db7-bb8b-f02b94a32f1b\" class=\"plotly-graph-div\" style=\"height:525px; width:100%;\"></div>            <script type=\"text/javascript\">                require([\"plotly\"], function(Plotly) {                    window.PLOTLYENV=window.PLOTLYENV || {};                                    if (document.getElementById(\"3a5e9964-d69a-4db7-bb8b-f02b94a32f1b\")) {                    Plotly.newPlot(                        \"3a5e9964-d69a-4db7-bb8b-f02b94a32f1b\",                        [{\"customdata\":[[\"3110 Bonnie View Road, Dallas, Texas 75126, United States\"],[\"2002 Dennison St., Dallas, Texas 75212, United States\"],[\"7408 South Hampton Rd, Dallas, Texas 75232, United States\"],[\"623 E. Woodin, Dallas, Texas 75216, United States\"],[\"1530 Bonnie View Road, Dallas, Texas 75203, United States\"],[\"6725 Tyree Street, Dallas, Texas 75209, United States\"],[\"2817 Cherry Valley Blvd., Dallas, Texas 75241, United States\"],[\"2423 S. Buckner Blvd., Dallas, Texas 75227, United States\"],[\"1403 Morrell Ave., Dallas, Texas 75203, United States\"],[\"3407 N Westmoreland, Dallas, Texas 75212, United States\"],[\"3317 Morris St, Dallas, Texas 75212, United States\"],[\"4122 Kilgore, Dallas, Texas 75212, United States\"],[\"4325 W. Ledbetter Dr., Dallas, Texas 75233, United States\"],[\"1212 E Kiest Blvd, Dallas, Texas 75216, United States\"],[\"831 E. Ann Arbor Rd, Dallas, Texas 75216, United States\"],[\"2020 West Wheatland Rd., Dallas, Texas, United States\"],[\"6808 Pastor Bailey Dr, Dallas, Texas 75237, United States\"],[\"1831 Canada Dr., Dallas, Texas 75212, United States\"],[\"2406 Childs St, Dallas, Texas 75203, United States\"],[\"7550 South Hampton Rd., Dallas, Texas 75232, United States\"],[\"1910 N. St. Augustine Rd., Dallas, Texas 75217, United States\"],[\"9550 Shepherd Road, Dallas, Texas 75243, United States\"],[\"4943 Bonnie View Rd, Dallas, Texas 75241, United States\"],[\"2325 Locust Ave, Dallas, Texas 75216, United States\"],[\"5726 Van Winkle Boulevard, Dallas, Texas 75235, United States\"],[\"2431 S. Marsalis Avenue, Dallas, Texas 75216, United States\"],[\"6702 Victoria Ave, Dallas, Texas 75209, United States\"],[\"2510 E. Ledbetter Rd., Dallas, Texas 75216, United States\"],[\"5002 S. Central Expressway, Dallas, Texas 75215, United States\"],[\"2828 Carpenter Ave, Dallas, Texas 75215, United States\"],[\"6777 W. Kiest Blvd, Dallas, Texas 75236, United States\"],[\"3305 Canada Dr, Dallas, Texas 75212, United States\"],[\"1323 South Ewing Avenue, Dallas, Texas 75216, United States\"],[\"3715 S. Westmoreland, Dallas, Texas 75237, United States\"],[\"1819 N. Washington Ave., Dallas, Texas 75204, United States\"],[\"6000 Singing Hills Dr, Dallas, Texas 75241, United States\"],[\"1808 W.Camp Wisdom Rd., Dallas, Texas 75232, United States\"],[\"3767 Forest Lane, Dallas, Texas 75244, United States\"],[\"6722 Bexar St, Dallas, Texas 75215, United States\"],[\"4575 R. L. Thornton Frwy, Dallas, Texas 75224, United States\"],[\"1600 Pear Street, Dallas, Texas 75215, United States\"],[\"7701 S. Westmoreland Ave., Dallas, Texas 75237, United States\"],[\"2920 Fordham Rd., Dallas, Texas 75216, United States\"],[\"1816 Routh Street , Dallas, Texas 75201, United States\"],[\"3430 Nomas St, Dallas, Texas 75212, United States\"],[\"2515 South Denley Dr., Dallas, Texas 75216, United States\"],[\"1502 South Haskell Ave, Dallas, Texas 75223, United States\"],[\"200 N. Jim Miller, Dallas, Texas 75217, United States\"],[\"26oo South Marsalis Avenue, Dallas, Texas 75216, United States\"],[\"1916 Prairie View Drive\\r\\nDallas, TX 75235\"]],\"hovertemplate\":\"<b>%{hovertext}</b><br><br>Latitude=%{lat}<br>Longitude=%{lon}<br>church_address=%{customdata[0]}<extra></extra>\",\"hovertext\":[\"Good Street Baptist Church\",\"Greenway Park Church of God in Christ\",\"Light of the World Church of Christ\",\"Full Gospel Tabernacle Church\",\"Dallas City Temple Seventh Day Adventist\",\"North Park CME Church\",\"Cornerstone Community Church\",\"Christ Holy Temple COGIC\",\"Greater Mount Pleasant Baptist Church\",\"Victory Cathedral Church of God in Christ\",\"New Mount Calvary Baptist Church\",\"Bibleway Church of God In Christ\",\"Divine Inspration Missionary Baptist\",\"Mount Zion Church of God in Christ\",\"United Missionary Baptist Church\",\"Friendship West Baptist Church\",\"Concord Missionary Baptist Church\",\"Leath Street Missionary Baptist Church\",\"Smith Chapel AME Church\",\"Antioch Fellowship Missionary Baptist Church\",\"Pleasant Zion Missionary Baptist Church\",\"New Mount Zion Baptist Church\",\"Burning Bush Baptist Church\",\"Southern Crest Full Gospel Baptist Church\",\"Arlington Park First Baptist Church\",\"Marsalis Avenue Church of Christ\",\"St. Luke Missionary Baptist Church\",\"Carver Heights Baptist Church\",\"New Hope Baptist Church\",\"Garth Chapel AME Church\",\"The Potters House (Dallas)\",\"New Beginning Covenant Ministry\",\"Ewing Avenue Baptist Church\",\"Freedom Missionary Baptist Church\",\"Pilgrim Rest Missionary Baptist Church\",\"St. Phillips Missionary Baptist Church\",\"Oak Cliff Bible Fellowship\",\"Christian Temple Worship Center\",\"The Lords Missionary Baptist Church\",\"Temple Of Prayer Christian Fellowship\",\"St. Paul Baptist Church\",\"Inspiring Body of Christ Church\",\"Community Baptist Church\",\"St. Paul United Methodist Church\",\"Peoples Chapel AME Church\",\"Tel-Star Missionary BC\",\"Gaines Chapel\",\"Saint James AME Church\",\"St. John Missionary Baptist Church\",\"Brethren of Christ Agape Family Church\"],\"lat\":[32.684058,32.7818006,32.6888663,32.7227307,32.684058,32.840079,32.6447404,32.7560057,32.7399582,32.7741322,32.7837653,32.7927497,32.6912155,32.7124064,32.6913187,32.6474701,32.6677878,32.7926386,32.7427053,32.6888663,32.7305242,32.9071585,32.684058,32.7023412,32.8159984,32.7119105,32.8395474,32.6901717,32.7068375,32.762775,32.705827,32.7926386,32.7233165,32.6949076,32.7948076,32.6788196,32.6622149,32.9092588,32.7441071,32.7965578,32.7514742,32.6949076,32.703429,32.797667,32.7809449,32.7099713,32.783708,32.7579678,32.7119105,32.7741322],\"legendgroup\":\"\",\"lon\":[-96.768401,-96.8505156,-96.8570108,-96.8108461,-96.768401,-96.8322274,-96.7795502,-96.6829126,-96.7954294,-96.8737705,-96.8737327,-96.885507,-96.8731152,-96.7979528,-96.8232909,-96.8874666,-96.874268,-96.8661604,-96.7909176,-96.8570108,-96.656943,-96.7502706,-96.768401,-96.7826838,-96.8574518,-96.8145161,-96.8311969,-96.7897249,-96.7496854,-96.7503692,-96.8884872,-96.8661604,-96.810833,-96.8788858,-96.7824792,-96.8014509,-96.8571529,-96.771637,-96.7534691,-96.6872202,-96.7656617,-96.8788858,-96.7888191,-96.803276,-96.8434775,-96.8045037,-96.7541139,-96.7017577,-96.8145161,-96.8737705],\"marker\":{\"color\":\"#636efa\"},\"mode\":\"markers\",\"name\":\"\",\"showlegend\":false,\"subplot\":\"mapbox\",\"type\":\"scattermapbox\"}],                        {\"template\":{\"data\":{\"histogram2dcontour\":[{\"type\":\"histogram2dcontour\",\"colorbar\":{\"outlinewidth\":0,\"ticks\":\"\"},\"colorscale\":[[0.0,\"#0d0887\"],[0.1111111111111111,\"#46039f\"],[0.2222222222222222,\"#7201a8\"],[0.3333333333333333,\"#9c179e\"],[0.4444444444444444,\"#bd3786\"],[0.5555555555555556,\"#d8576b\"],[0.6666666666666666,\"#ed7953\"],[0.7777777777777778,\"#fb9f3a\"],[0.8888888888888888,\"#fdca26\"],[1.0,\"#f0f921\"]]}],\"choropleth\":[{\"type\":\"choropleth\",\"colorbar\":{\"outlinewidth\":0,\"ticks\":\"\"}}],\"histogram2d\":[{\"type\":\"histogram2d\",\"colorbar\":{\"outlinewidth\":0,\"ticks\":\"\"},\"colorscale\":[[0.0,\"#0d0887\"],[0.1111111111111111,\"#46039f\"],[0.2222222222222222,\"#7201a8\"],[0.3333333333333333,\"#9c179e\"],[0.4444444444444444,\"#bd3786\"],[0.5555555555555556,\"#d8576b\"],[0.6666666666666666,\"#ed7953\"],[0.7777777777777778,\"#fb9f3a\"],[0.8888888888888888,\"#fdca26\"],[1.0,\"#f0f921\"]]}],\"heatmap\":[{\"type\":\"heatmap\",\"colorbar\":{\"outlinewidth\":0,\"ticks\":\"\"},\"colorscale\":[[0.0,\"#0d0887\"],[0.1111111111111111,\"#46039f\"],[0.2222222222222222,\"#7201a8\"],[0.3333333333333333,\"#9c179e\"],[0.4444444444444444,\"#bd3786\"],[0.5555555555555556,\"#d8576b\"],[0.6666666666666666,\"#ed7953\"],[0.7777777777777778,\"#fb9f3a\"],[0.8888888888888888,\"#fdca26\"],[1.0,\"#f0f921\"]]}],\"heatmapgl\":[{\"type\":\"heatmapgl\",\"colorbar\":{\"outlinewidth\":0,\"ticks\":\"\"},\"colorscale\":[[0.0,\"#0d0887\"],[0.1111111111111111,\"#46039f\"],[0.2222222222222222,\"#7201a8\"],[0.3333333333333333,\"#9c179e\"],[0.4444444444444444,\"#bd3786\"],[0.5555555555555556,\"#d8576b\"],[0.6666666666666666,\"#ed7953\"],[0.7777777777777778,\"#fb9f3a\"],[0.8888888888888888,\"#fdca26\"],[1.0,\"#f0f921\"]]}],\"contourcarpet\":[{\"type\":\"contourcarpet\",\"colorbar\":{\"outlinewidth\":0,\"ticks\":\"\"}}],\"contour\":[{\"type\":\"contour\",\"colorbar\":{\"outlinewidth\":0,\"ticks\":\"\"},\"colorscale\":[[0.0,\"#0d0887\"],[0.1111111111111111,\"#46039f\"],[0.2222222222222222,\"#7201a8\"],[0.3333333333333333,\"#9c179e\"],[0.4444444444444444,\"#bd3786\"],[0.5555555555555556,\"#d8576b\"],[0.6666666666666666,\"#ed7953\"],[0.7777777777777778,\"#fb9f3a\"],[0.8888888888888888,\"#fdca26\"],[1.0,\"#f0f921\"]]}],\"surface\":[{\"type\":\"surface\",\"colorbar\":{\"outlinewidth\":0,\"ticks\":\"\"},\"colorscale\":[[0.0,\"#0d0887\"],[0.1111111111111111,\"#46039f\"],[0.2222222222222222,\"#7201a8\"],[0.3333333333333333,\"#9c179e\"],[0.4444444444444444,\"#bd3786\"],[0.5555555555555556,\"#d8576b\"],[0.6666666666666666,\"#ed7953\"],[0.7777777777777778,\"#fb9f3a\"],[0.8888888888888888,\"#fdca26\"],[1.0,\"#f0f921\"]]}],\"mesh3d\":[{\"type\":\"mesh3d\",\"colorbar\":{\"outlinewidth\":0,\"ticks\":\"\"}}],\"scatter\":[{\"fillpattern\":{\"fillmode\":\"overlay\",\"size\":10,\"solidity\":0.2},\"type\":\"scatter\"}],\"parcoords\":[{\"type\":\"parcoords\",\"line\":{\"colorbar\":{\"outlinewidth\":0,\"ticks\":\"\"}}}],\"scatterpolargl\":[{\"type\":\"scatterpolargl\",\"marker\":{\"colorbar\":{\"outlinewidth\":0,\"ticks\":\"\"}}}],\"bar\":[{\"error_x\":{\"color\":\"#2a3f5f\"},\"error_y\":{\"color\":\"#2a3f5f\"},\"marker\":{\"line\":{\"color\":\"#E5ECF6\",\"width\":0.5},\"pattern\":{\"fillmode\":\"overlay\",\"size\":10,\"solidity\":0.2}},\"type\":\"bar\"}],\"scattergeo\":[{\"type\":\"scattergeo\",\"marker\":{\"colorbar\":{\"outlinewidth\":0,\"ticks\":\"\"}}}],\"scatterpolar\":[{\"type\":\"scatterpolar\",\"marker\":{\"colorbar\":{\"outlinewidth\":0,\"ticks\":\"\"}}}],\"histogram\":[{\"marker\":{\"pattern\":{\"fillmode\":\"overlay\",\"size\":10,\"solidity\":0.2}},\"type\":\"histogram\"}],\"scattergl\":[{\"type\":\"scattergl\",\"marker\":{\"colorbar\":{\"outlinewidth\":0,\"ticks\":\"\"}}}],\"scatter3d\":[{\"type\":\"scatter3d\",\"line\":{\"colorbar\":{\"outlinewidth\":0,\"ticks\":\"\"}},\"marker\":{\"colorbar\":{\"outlinewidth\":0,\"ticks\":\"\"}}}],\"scattermapbox\":[{\"type\":\"scattermapbox\",\"marker\":{\"colorbar\":{\"outlinewidth\":0,\"ticks\":\"\"}}}],\"scatterternary\":[{\"type\":\"scatterternary\",\"marker\":{\"colorbar\":{\"outlinewidth\":0,\"ticks\":\"\"}}}],\"scattercarpet\":[{\"type\":\"scattercarpet\",\"marker\":{\"colorbar\":{\"outlinewidth\":0,\"ticks\":\"\"}}}],\"carpet\":[{\"aaxis\":{\"endlinecolor\":\"#2a3f5f\",\"gridcolor\":\"white\",\"linecolor\":\"white\",\"minorgridcolor\":\"white\",\"startlinecolor\":\"#2a3f5f\"},\"baxis\":{\"endlinecolor\":\"#2a3f5f\",\"gridcolor\":\"white\",\"linecolor\":\"white\",\"minorgridcolor\":\"white\",\"startlinecolor\":\"#2a3f5f\"},\"type\":\"carpet\"}],\"table\":[{\"cells\":{\"fill\":{\"color\":\"#EBF0F8\"},\"line\":{\"color\":\"white\"}},\"header\":{\"fill\":{\"color\":\"#C8D4E3\"},\"line\":{\"color\":\"white\"}},\"type\":\"table\"}],\"barpolar\":[{\"marker\":{\"line\":{\"color\":\"#E5ECF6\",\"width\":0.5},\"pattern\":{\"fillmode\":\"overlay\",\"size\":10,\"solidity\":0.2}},\"type\":\"barpolar\"}],\"pie\":[{\"automargin\":true,\"type\":\"pie\"}]},\"layout\":{\"autotypenumbers\":\"strict\",\"colorway\":[\"#636efa\",\"#EF553B\",\"#00cc96\",\"#ab63fa\",\"#FFA15A\",\"#19d3f3\",\"#FF6692\",\"#B6E880\",\"#FF97FF\",\"#FECB52\"],\"font\":{\"color\":\"#2a3f5f\"},\"hovermode\":\"closest\",\"hoverlabel\":{\"align\":\"left\"},\"paper_bgcolor\":\"white\",\"plot_bgcolor\":\"#E5ECF6\",\"polar\":{\"bgcolor\":\"#E5ECF6\",\"angularaxis\":{\"gridcolor\":\"white\",\"linecolor\":\"white\",\"ticks\":\"\"},\"radialaxis\":{\"gridcolor\":\"white\",\"linecolor\":\"white\",\"ticks\":\"\"}},\"ternary\":{\"bgcolor\":\"#E5ECF6\",\"aaxis\":{\"gridcolor\":\"white\",\"linecolor\":\"white\",\"ticks\":\"\"},\"baxis\":{\"gridcolor\":\"white\",\"linecolor\":\"white\",\"ticks\":\"\"},\"caxis\":{\"gridcolor\":\"white\",\"linecolor\":\"white\",\"ticks\":\"\"}},\"coloraxis\":{\"colorbar\":{\"outlinewidth\":0,\"ticks\":\"\"}},\"colorscale\":{\"sequential\":[[0.0,\"#0d0887\"],[0.1111111111111111,\"#46039f\"],[0.2222222222222222,\"#7201a8\"],[0.3333333333333333,\"#9c179e\"],[0.4444444444444444,\"#bd3786\"],[0.5555555555555556,\"#d8576b\"],[0.6666666666666666,\"#ed7953\"],[0.7777777777777778,\"#fb9f3a\"],[0.8888888888888888,\"#fdca26\"],[1.0,\"#f0f921\"]],\"sequentialminus\":[[0.0,\"#0d0887\"],[0.1111111111111111,\"#46039f\"],[0.2222222222222222,\"#7201a8\"],[0.3333333333333333,\"#9c179e\"],[0.4444444444444444,\"#bd3786\"],[0.5555555555555556,\"#d8576b\"],[0.6666666666666666,\"#ed7953\"],[0.7777777777777778,\"#fb9f3a\"],[0.8888888888888888,\"#fdca26\"],[1.0,\"#f0f921\"]],\"diverging\":[[0,\"#8e0152\"],[0.1,\"#c51b7d\"],[0.2,\"#de77ae\"],[0.3,\"#f1b6da\"],[0.4,\"#fde0ef\"],[0.5,\"#f7f7f7\"],[0.6,\"#e6f5d0\"],[0.7,\"#b8e186\"],[0.8,\"#7fbc41\"],[0.9,\"#4d9221\"],[1,\"#276419\"]]},\"xaxis\":{\"gridcolor\":\"white\",\"linecolor\":\"white\",\"ticks\":\"\",\"title\":{\"standoff\":15},\"zerolinecolor\":\"white\",\"automargin\":true,\"zerolinewidth\":2},\"yaxis\":{\"gridcolor\":\"white\",\"linecolor\":\"white\",\"ticks\":\"\",\"title\":{\"standoff\":15},\"zerolinecolor\":\"white\",\"automargin\":true,\"zerolinewidth\":2},\"scene\":{\"xaxis\":{\"backgroundcolor\":\"#E5ECF6\",\"gridcolor\":\"white\",\"linecolor\":\"white\",\"showbackground\":true,\"ticks\":\"\",\"zerolinecolor\":\"white\",\"gridwidth\":2},\"yaxis\":{\"backgroundcolor\":\"#E5ECF6\",\"gridcolor\":\"white\",\"linecolor\":\"white\",\"showbackground\":true,\"ticks\":\"\",\"zerolinecolor\":\"white\",\"gridwidth\":2},\"zaxis\":{\"backgroundcolor\":\"#E5ECF6\",\"gridcolor\":\"white\",\"linecolor\":\"white\",\"showbackground\":true,\"ticks\":\"\",\"zerolinecolor\":\"white\",\"gridwidth\":2}},\"shapedefaults\":{\"line\":{\"color\":\"#2a3f5f\"}},\"annotationdefaults\":{\"arrowcolor\":\"#2a3f5f\",\"arrowhead\":0,\"arrowwidth\":1},\"geo\":{\"bgcolor\":\"white\",\"landcolor\":\"#E5ECF6\",\"subunitcolor\":\"white\",\"showland\":true,\"showlakes\":true,\"lakecolor\":\"white\"},\"title\":{\"x\":0.05},\"mapbox\":{\"style\":\"light\"}}},\"mapbox\":{\"domain\":{\"x\":[0.0,1.0],\"y\":[0.0,1.0]},\"center\":{\"lat\":32.740944864,\"lon\":-96.80852573999996},\"zoom\":10,\"style\":\"open-street-map\"},\"legend\":{\"tracegroupgap\":0},\"margin\":{\"t\":60},\"title\":{\"text\":\"Geographic Distribution of African Churches in Dallas\"}},                        {\"responsive\": true}                    ).then(function(){\n",
       "                            \n",
       "var gd = document.getElementById('3a5e9964-d69a-4db7-bb8b-f02b94a32f1b');\n",
       "var x = new MutationObserver(function (mutations, observer) {{\n",
       "        var display = window.getComputedStyle(gd).display;\n",
       "        if (!display || display === 'none') {{\n",
       "            console.log([gd, 'removed!']);\n",
       "            Plotly.purge(gd);\n",
       "            observer.disconnect();\n",
       "        }}\n",
       "}});\n",
       "\n",
       "// Listen for the removal of the full notebook cells\n",
       "var notebookContainer = gd.closest('#notebook-container');\n",
       "if (notebookContainer) {{\n",
       "    x.observe(notebookContainer, {childList: true});\n",
       "}}\n",
       "\n",
       "// Listen for the clearing of the current output cell\n",
       "var outputEl = gd.closest('.output');\n",
       "if (outputEl) {{\n",
       "    x.observe(outputEl, {childList: true});\n",
       "}}\n",
       "\n",
       "                        })                };                });            </script>        </div>"
      ]
     },
     "metadata": {},
     "output_type": "display_data"
    }
   ],
   "source": [
    "import plotly.express as px\n",
    "\n",
    "# Plotting the geographic distribution of churches on a map\n",
    "fig = px.scatter_mapbox(data, lat=\"Latitude\", lon=\"Longitude\", hover_name=\"church_name\",\n",
    "                        hover_data=[\"church_address\"], zoom=10)\n",
    "fig.update_layout(mapbox_style=\"open-street-map\")\n",
    "fig.update_layout(title='Geographic Distribution of African Churches in Dallas')\n",
    "fig.show()\n"
   ]
  },
  {
   "cell_type": "code",
   "execution_count": 193,
   "id": "62aa2227",
   "metadata": {
    "scrolled": false
   },
   "outputs": [
    {
     "data": {
      "image/png": "[encoded data removed]",
      "text/plain": [
       "<Figure size 1000x600 with 1 Axes>"
      ]
     },
     "metadata": {},
     "output_type": "display_data"
    }
   ],
   "source": [
    "# Analyze the relationship between church size and service time using scatter plots\n",
    "plt.figure(figsize=(10, 6))\n",
    "sns.scatterplot(x='Demography by size', y='Service_time', data=data)\n",
    "plt.xlabel('Church Size')\n",
    "plt.ylabel('Service Time')\n",
    "plt.title('Relationship between Church Size and Service Time')\n",
    "plt.show()"
   ]
  },
  {
   "cell_type": "markdown",
   "id": "e580bccb",
   "metadata": {},
   "source": [
    "Summary:\n",
    "The analysis explored the relationship between church size and service time. A scatter plot revealed a weak positive correlation between the two variables. Larger churches tended to have slightly longer service times, although the correlation was not very strong.\n",
    "\n",
    "Conclusion:\n",
    "Based on the data analyzed, it can be concluded that there is a tendency for larger churches to have slightly longer service times. However, it is important to note that the correlation between church size and service time is weak, indicating that other factors might also influence service time. Therefore, while church size may play a role in service duration, it is not the sole determining factor."
   ]
  },
  {
   "cell_type": "code",
   "execution_count": 160,
   "id": "0786f405",
   "metadata": {},
   "outputs": [
    {
     "name": "stdout",
     "output_type": "stream",
     "text": [
      "Summary:\n",
      "- There are 50 churches in the dataset.\n",
      "- The most common church denomination is Baptist\n",
      "- The majority of churches have a medium-sized demography.\n",
      "- Sunday is the most common service day.\n",
      "- The service time tends to vary based on the church size.\n"
     ]
    }
   ],
   "source": [
    "# Summary of the analysis and conclusions\n",
    "print(\"Summary:\")\n",
    "print(\"- There are\", len(data), \"churches in the dataset.\")\n",
    "print(\"- The most common church denomination is\", denomination_counts.idxmax())\n",
    "print(\"- The majority of churches have a medium-sized demography.\")\n",
    "print(\"- Sunday is the most common service day.\")\n",
    "print(\"- The service time tends to vary based on the church size.\")\n"
   ]
  },
  {
   "cell_type": "markdown",
   "id": "2cd224df",
   "metadata": {},
   "source": [
    "# Additional analysis\n",
    "\n",
    "Further research could be carried out to analyze the relationship between church size and service time using scatter plots\n",
    "Social Media Data Integration: Integrate social media platforms (e.g., Facebook, Twitter, Instagram) to gather additional information about the churches. Retrieve data such as church social media handles, follower counts, user reviews, and engagement metrics. This can provide insights into the popularity and online presence of each church.\n",
    "\n",
    "Demographic Data Acquisition: Obtain demographic information about the neighborhoods or areas where the churches are located. This can include data on population demographics, ethnic composition, income levels, and other relevant socio-economic indicators. Census data, government reports, or third-party data providers can be used to acquire this information.\n"
   ]
  }
 ],
 "metadata": {
  "kernelspec": {
   "display_name": "Python 3 (ipykernel)",
   "language": "python",
   "name": "python3"
  },
  "language_info": {
   "codemirror_mode": {
    "name": "ipython",
    "version": 3
   },
   "file_extension": ".py",
   "mimetype": "text/x-python",
   "name": "python",
   "nbconvert_exporter": "python",
   "pygments_lexer": "ipython3",
   "version": "3.9.13"
  }
 },
 "nbformat": 4,
 "nbformat_minor": 5
}
