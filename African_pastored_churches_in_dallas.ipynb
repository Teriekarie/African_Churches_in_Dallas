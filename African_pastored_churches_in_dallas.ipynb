{
 "cells": [
  {
   "cell_type": "markdown",
   "id": "3886efd7",
   "metadata": {},
   "source": [
    "# The cleaning and visualization"
   ]
  },
  {
   "cell_type": "code",
   "execution_count": 1,
   "id": "a4d7899a",
   "metadata": {},
   "outputs": [],
   "source": [
    "#import the libraries\n",
    "\n",
    "import pandas as pd\n",
    "import matplotlib.pyplot as plt\n",
    "import seaborn as sns\n",
    "import re"
   ]
  },
  {
   "cell_type": "code",
   "execution_count": 70,
   "id": "9ac7ef70",
   "metadata": {},
   "outputs": [],
   "source": [
    "#loading the dataset\n",
    "\n",
    "data = pd.read_csv(\"C:/Users/terre/Downloads/African_pastored_churches - African_churches (2).csv\")\n"
   ]
  },
  {
   "cell_type": "code",
   "execution_count": 30,
   "id": "4c4de1d8",
   "metadata": {},
   "outputs": [
    {
     "data": {
      "text/html": [
       "<div>\n",
       "<style scoped>\n",
       "    .dataframe tbody tr th:only-of-type {\n",
       "        vertical-align: middle;\n",
       "    }\n",
       "\n",
       "    .dataframe tbody tr th {\n",
       "        vertical-align: top;\n",
       "    }\n",
       "\n",
       "    .dataframe thead th {\n",
       "        text-align: right;\n",
       "    }\n",
       "</style>\n",
       "<table border=\"1\" class=\"dataframe\">\n",
       "  <thead>\n",
       "    <tr style=\"text-align: right;\">\n",
       "      <th></th>\n",
       "      <th>query</th>\n",
       "      <th>name</th>\n",
       "      <th>site</th>\n",
       "      <th>pastored_by_africans</th>\n",
       "      <th>pastors_name</th>\n",
       "      <th>populated_immigrant_country</th>\n",
       "      <th>type</th>\n",
       "      <th>subtype</th>\n",
       "      <th>category</th>\n",
       "      <th>about</th>\n",
       "      <th>...</th>\n",
       "      <th>email_3_full_name</th>\n",
       "      <th>phone_1</th>\n",
       "      <th>phone_2</th>\n",
       "      <th>facebook</th>\n",
       "      <th>instagram</th>\n",
       "      <th>linkedin</th>\n",
       "      <th>whatsapp</th>\n",
       "      <th>twitter</th>\n",
       "      <th>vimeo</th>\n",
       "      <th>youtube</th>\n",
       "    </tr>\n",
       "  </thead>\n",
       "  <tbody>\n",
       "    <tr>\n",
       "      <th>0</th>\n",
       "      <td>african churches, 75251, Dallas, TX, US</td>\n",
       "      <td>Rccg Victory Center Dallas</td>\n",
       "      <td>http://www.rccgdallas.org/</td>\n",
       "      <td>Yes</td>\n",
       "      <td>NaN</td>\n",
       "      <td>Nigeria</td>\n",
       "      <td>Church</td>\n",
       "      <td>Church</td>\n",
       "      <td>Church</td>\n",
       "      <td>{\"Accessibility\": {\"Wheelchair accessible entr...</td>\n",
       "      <td>...</td>\n",
       "      <td>NaN</td>\n",
       "      <td>NaN</td>\n",
       "      <td>NaN</td>\n",
       "      <td>NaN</td>\n",
       "      <td>https://www.instagram.com/victorycenterdallas</td>\n",
       "      <td>NaN</td>\n",
       "      <td>NaN</td>\n",
       "      <td>https://twitter.com/DallasRccg</td>\n",
       "      <td>NaN</td>\n",
       "      <td>https://www.youtube.com/channel/UCDrm2qh9_3Cr9...</td>\n",
       "    </tr>\n",
       "    <tr>\n",
       "      <th>1</th>\n",
       "      <td>african churches, 75320, Dallas, TX, US</td>\n",
       "      <td>Macedonia Baptist Church</td>\n",
       "      <td>https://www.mmbcdallas.org/</td>\n",
       "      <td>Yes</td>\n",
       "      <td>Pastor Frederick Norris, Sr.</td>\n",
       "      <td>South Africa</td>\n",
       "      <td>Baptist church</td>\n",
       "      <td>Baptist church</td>\n",
       "      <td>Baptist church</td>\n",
       "      <td>{\"Accessibility\": {\"Wheelchair accessible entr...</td>\n",
       "      <td>...</td>\n",
       "      <td>NaN</td>\n",
       "      <td>NaN</td>\n",
       "      <td>NaN</td>\n",
       "      <td>NaN</td>\n",
       "      <td>NaN</td>\n",
       "      <td>NaN</td>\n",
       "      <td>NaN</td>\n",
       "      <td>NaN</td>\n",
       "      <td>NaN</td>\n",
       "      <td>NaN</td>\n",
       "    </tr>\n",
       "    <tr>\n",
       "      <th>2</th>\n",
       "      <td>african churches, 75320, Dallas, TX, US</td>\n",
       "      <td>Pilgrim Rest Missionary Baptist Church</td>\n",
       "      <td>http://www.pilgrimrestdallas.org/</td>\n",
       "      <td>Yes</td>\n",
       "      <td>Dr. Carlos D. Williams</td>\n",
       "      <td>South Africa</td>\n",
       "      <td>Baptist church</td>\n",
       "      <td>Baptist church, Church</td>\n",
       "      <td>Baptist church</td>\n",
       "      <td>{\"Accessibility\": {\"Wheelchair accessible entr...</td>\n",
       "      <td>...</td>\n",
       "      <td>NaN</td>\n",
       "      <td>NaN</td>\n",
       "      <td>NaN</td>\n",
       "      <td>http://www.facebook.com/PRMBCdallas</td>\n",
       "      <td>https://www.instagram.com/pilgrimrestdallas</td>\n",
       "      <td>http://www.linkedin.com/company/4028841</td>\n",
       "      <td>NaN</td>\n",
       "      <td>NaN</td>\n",
       "      <td>NaN</td>\n",
       "      <td>https://www.youtube.com/channel/UC0u-gT9WLxfkL...</td>\n",
       "    </tr>\n",
       "    <tr>\n",
       "      <th>3</th>\n",
       "      <td>african churches, 75238, Dallas, TX, US</td>\n",
       "      <td>Gospel Light Eritrean Baptist Church Dallas</td>\n",
       "      <td>https://www.berhanwongeldallas.org/</td>\n",
       "      <td>No</td>\n",
       "      <td>NaN</td>\n",
       "      <td>Cameroon</td>\n",
       "      <td>Baptist church</td>\n",
       "      <td>Baptist church</td>\n",
       "      <td>Baptist church</td>\n",
       "      <td>{\"Accessibility\": {\"Wheelchair accessible entr...</td>\n",
       "      <td>...</td>\n",
       "      <td>NaN</td>\n",
       "      <td>NaN</td>\n",
       "      <td>NaN</td>\n",
       "      <td>http://facebook.com/berhanwongeldallas</td>\n",
       "      <td>NaN</td>\n",
       "      <td>NaN</td>\n",
       "      <td>NaN</td>\n",
       "      <td>http://twitter.com/bwongeldallas</td>\n",
       "      <td>http://vimeo.com/user30295325</td>\n",
       "      <td>NaN</td>\n",
       "    </tr>\n",
       "    <tr>\n",
       "      <th>4</th>\n",
       "      <td>african churches, 75238, Dallas, TX, US</td>\n",
       "      <td>The Shining Light Church</td>\n",
       "      <td>http://www.sliwot.org/</td>\n",
       "      <td>Yes</td>\n",
       "      <td>NaN</td>\n",
       "      <td>Togo</td>\n",
       "      <td>Non-denominational church</td>\n",
       "      <td>Non-denominational church, Church</td>\n",
       "      <td>Non-denominational church</td>\n",
       "      <td>{\"Accessibility\": {\"Wheelchair accessible entr...</td>\n",
       "      <td>...</td>\n",
       "      <td>NaN</td>\n",
       "      <td>9722877729</td>\n",
       "      <td>NaN</td>\n",
       "      <td>https://www.facebook.com/brainerdbaptist</td>\n",
       "      <td>http://instagram.com/brainerdbaptist</td>\n",
       "      <td>NaN</td>\n",
       "      <td>NaN</td>\n",
       "      <td>https://twitter.com/BrainerdBaptist</td>\n",
       "      <td>NaN</td>\n",
       "      <td>NaN</td>\n",
       "    </tr>\n",
       "  </tbody>\n",
       "</table>\n",
       "<p>5 rows × 62 columns</p>\n",
       "</div>"
      ],
      "text/plain": [
       "                                     query  \\\n",
       "0  african churches, 75251, Dallas, TX, US   \n",
       "1  african churches, 75320, Dallas, TX, US   \n",
       "2  african churches, 75320, Dallas, TX, US   \n",
       "3  african churches, 75238, Dallas, TX, US   \n",
       "4  african churches, 75238, Dallas, TX, US   \n",
       "\n",
       "                                          name  \\\n",
       "0                   Rccg Victory Center Dallas   \n",
       "1                     Macedonia Baptist Church   \n",
       "2       Pilgrim Rest Missionary Baptist Church   \n",
       "3  Gospel Light Eritrean Baptist Church Dallas   \n",
       "4                     The Shining Light Church   \n",
       "\n",
       "                                  site pastored_by_africans  \\\n",
       "0           http://www.rccgdallas.org/                  Yes   \n",
       "1          https://www.mmbcdallas.org/                  Yes   \n",
       "2    http://www.pilgrimrestdallas.org/                  Yes   \n",
       "3  https://www.berhanwongeldallas.org/                   No   \n",
       "4               http://www.sliwot.org/                  Yes   \n",
       "\n",
       "                   pastors_name populated_immigrant_country  \\\n",
       "0                           NaN                     Nigeria   \n",
       "1  Pastor Frederick Norris, Sr.                South Africa   \n",
       "2        Dr. Carlos D. Williams                South Africa   \n",
       "3                           NaN                    Cameroon   \n",
       "4                           NaN                        Togo   \n",
       "\n",
       "                        type                            subtype  \\\n",
       "0                     Church                             Church   \n",
       "1             Baptist church                     Baptist church   \n",
       "2             Baptist church             Baptist church, Church   \n",
       "3             Baptist church                     Baptist church   \n",
       "4  Non-denominational church  Non-denominational church, Church   \n",
       "\n",
       "                    category  \\\n",
       "0                     Church   \n",
       "1             Baptist church   \n",
       "2             Baptist church   \n",
       "3             Baptist church   \n",
       "4  Non-denominational church   \n",
       "\n",
       "                                               about  ... email_3_full_name  \\\n",
       "0  {\"Accessibility\": {\"Wheelchair accessible entr...  ...               NaN   \n",
       "1  {\"Accessibility\": {\"Wheelchair accessible entr...  ...               NaN   \n",
       "2  {\"Accessibility\": {\"Wheelchair accessible entr...  ...               NaN   \n",
       "3  {\"Accessibility\": {\"Wheelchair accessible entr...  ...               NaN   \n",
       "4  {\"Accessibility\": {\"Wheelchair accessible entr...  ...               NaN   \n",
       "\n",
       "      phone_1 phone_2                                  facebook  \\\n",
       "0         NaN     NaN                                       NaN   \n",
       "1         NaN     NaN                                       NaN   \n",
       "2         NaN     NaN       http://www.facebook.com/PRMBCdallas   \n",
       "3         NaN     NaN    http://facebook.com/berhanwongeldallas   \n",
       "4  9722877729     NaN  https://www.facebook.com/brainerdbaptist   \n",
       "\n",
       "                                       instagram  \\\n",
       "0  https://www.instagram.com/victorycenterdallas   \n",
       "1                                            NaN   \n",
       "2    https://www.instagram.com/pilgrimrestdallas   \n",
       "3                                            NaN   \n",
       "4           http://instagram.com/brainerdbaptist   \n",
       "\n",
       "                                  linkedin whatsapp  \\\n",
       "0                                      NaN      NaN   \n",
       "1                                      NaN      NaN   \n",
       "2  http://www.linkedin.com/company/4028841      NaN   \n",
       "3                                      NaN      NaN   \n",
       "4                                      NaN      NaN   \n",
       "\n",
       "                               twitter                          vimeo  \\\n",
       "0       https://twitter.com/DallasRccg                            NaN   \n",
       "1                                  NaN                            NaN   \n",
       "2                                  NaN                            NaN   \n",
       "3     http://twitter.com/bwongeldallas  http://vimeo.com/user30295325   \n",
       "4  https://twitter.com/BrainerdBaptist                            NaN   \n",
       "\n",
       "                                             youtube  \n",
       "0  https://www.youtube.com/channel/UCDrm2qh9_3Cr9...  \n",
       "1                                                NaN  \n",
       "2  https://www.youtube.com/channel/UC0u-gT9WLxfkL...  \n",
       "3                                                NaN  \n",
       "4                                                NaN  \n",
       "\n",
       "[5 rows x 62 columns]"
      ]
     },
     "execution_count": 30,
     "metadata": {},
     "output_type": "execute_result"
    }
   ],
   "source": [
    "data.head()"
   ]
  },
  {
   "cell_type": "markdown",
   "id": "99f480f8",
   "metadata": {},
   "source": [
    "# Data exploration\n",
    "\n",
    "We will explore the dataset to understand the distribution and characteristics of the data. This will involve examining the variables and their relationships.\n"
   ]
  },
  {
   "cell_type": "code",
   "execution_count": 31,
   "id": "9e513c9f",
   "metadata": {},
   "outputs": [
    {
     "data": {
      "text/plain": [
       "(50, 62)"
      ]
     },
     "execution_count": 31,
     "metadata": {},
     "output_type": "execute_result"
    }
   ],
   "source": [
    "data.shape"
   ]
  },
  {
   "cell_type": "code",
   "execution_count": 32,
   "id": "c91a8089",
   "metadata": {},
   "outputs": [
    {
     "data": {
      "text/plain": [
       "Index(['query', 'name', 'site', 'pastored_by_africans', 'pastors_name',\n",
       "       'populated_immigrant_country', 'type', 'subtype', 'category', 'about',\n",
       "       'phone', 'full_address', 'borough', 'street', 'city', 'postal_code',\n",
       "       'state', 'us_state', 'country', 'country_code', 'latitude', 'longitude',\n",
       "       'time_zone', 'plus_code', 'area_service', 'working_hours',\n",
       "       'working_hours_old_format', 'rating', 'reviews', 'reviews_link',\n",
       "       'reviews_tags', 'reviews_per_score', 'reviews_per_score_1',\n",
       "       'reviews_per_score_2', 'reviews_per_score_3', 'reviews_per_score_4',\n",
       "       'reviews_per_score_5', 'photos_count', 'photo', 'street_view',\n",
       "       'located_in', 'other_hours', 'business_status', 'verified',\n",
       "       'location_link', 'email_1', 'email_1_full_name', 'email_1_title',\n",
       "       'email_2', 'email_2_full_name', 'email_2_title', 'email_3',\n",
       "       'email_3_full_name', 'phone_1', 'phone_2', 'facebook', 'instagram',\n",
       "       'linkedin', 'whatsapp', 'twitter', 'vimeo', 'youtube'],\n",
       "      dtype='object')"
      ]
     },
     "execution_count": 32,
     "metadata": {},
     "output_type": "execute_result"
    }
   ],
   "source": [
    "data.columns"
   ]
  },
  {
   "cell_type": "code",
   "execution_count": 33,
   "id": "8ee519da",
   "metadata": {},
   "outputs": [
    {
     "name": "stdout",
     "output_type": "stream",
     "text": [
      "query                   object\n",
      "name                    object\n",
      "site                    object\n",
      "pastored_by_africans    object\n",
      "pastors_name            object\n",
      "                         ...  \n",
      "linkedin                object\n",
      "whatsapp                object\n",
      "twitter                 object\n",
      "vimeo                   object\n",
      "youtube                 object\n",
      "Length: 62, dtype: object\n"
     ]
    }
   ],
   "source": [
    "# Check the data types of each column\n",
    "print(data.dtypes)"
   ]
  },
  {
   "cell_type": "code",
   "execution_count": 34,
   "id": "6ec3aba7",
   "metadata": {},
   "outputs": [
    {
     "name": "stdout",
     "output_type": "stream",
     "text": [
      "query                    0\n",
      "name                     0\n",
      "site                     0\n",
      "pastored_by_africans     2\n",
      "pastors_name            11\n",
      "                        ..\n",
      "linkedin                41\n",
      "whatsapp                49\n",
      "twitter                 30\n",
      "vimeo                   48\n",
      "youtube                 32\n",
      "Length: 62, dtype: int64\n"
     ]
    }
   ],
   "source": [
    "# Check for missing values\n",
    "print(data.isnull().sum())"
   ]
  },
  {
   "cell_type": "code",
   "execution_count": 35,
   "id": "16d18499",
   "metadata": {},
   "outputs": [
    {
     "name": "stdout",
     "output_type": "stream",
     "text": [
      "0\n"
     ]
    }
   ],
   "source": [
    "print(data.duplicated().sum())"
   ]
  },
  {
   "cell_type": "code",
   "execution_count": 36,
   "id": "d6b37594",
   "metadata": {},
   "outputs": [
    {
     "data": {
      "text/html": [
       "<div>\n",
       "<style scoped>\n",
       "    .dataframe tbody tr th:only-of-type {\n",
       "        vertical-align: middle;\n",
       "    }\n",
       "\n",
       "    .dataframe tbody tr th {\n",
       "        vertical-align: top;\n",
       "    }\n",
       "\n",
       "    .dataframe thead th {\n",
       "        text-align: right;\n",
       "    }\n",
       "</style>\n",
       "<table border=\"1\" class=\"dataframe\">\n",
       "  <thead>\n",
       "    <tr style=\"text-align: right;\">\n",
       "      <th></th>\n",
       "      <th>postal_code</th>\n",
       "      <th>latitude</th>\n",
       "      <th>longitude</th>\n",
       "      <th>rating</th>\n",
       "      <th>reviews</th>\n",
       "      <th>reviews_per_score_1</th>\n",
       "      <th>reviews_per_score_2</th>\n",
       "      <th>reviews_per_score_3</th>\n",
       "      <th>reviews_per_score_4</th>\n",
       "      <th>reviews_per_score_5</th>\n",
       "      <th>photos_count</th>\n",
       "      <th>other_hours</th>\n",
       "    </tr>\n",
       "  </thead>\n",
       "  <tbody>\n",
       "    <tr>\n",
       "      <th>count</th>\n",
       "      <td>48.000000</td>\n",
       "      <td>50.000000</td>\n",
       "      <td>50.000000</td>\n",
       "      <td>46.000000</td>\n",
       "      <td>46.000000</td>\n",
       "      <td>46.000000</td>\n",
       "      <td>46.000000</td>\n",
       "      <td>46.000000</td>\n",
       "      <td>46.000000</td>\n",
       "      <td>46.000000</td>\n",
       "      <td>48.000000</td>\n",
       "      <td>0.0</td>\n",
       "    </tr>\n",
       "    <tr>\n",
       "      <th>mean</th>\n",
       "      <td>75224.520833</td>\n",
       "      <td>32.660032</td>\n",
       "      <td>-96.449629</td>\n",
       "      <td>4.736957</td>\n",
       "      <td>98.956522</td>\n",
       "      <td>2.347826</td>\n",
       "      <td>0.717391</td>\n",
       "      <td>2.021739</td>\n",
       "      <td>5.434783</td>\n",
       "      <td>88.434783</td>\n",
       "      <td>83.291667</td>\n",
       "      <td>NaN</td>\n",
       "    </tr>\n",
       "    <tr>\n",
       "      <th>std</th>\n",
       "      <td>16.542646</td>\n",
       "      <td>0.697325</td>\n",
       "      <td>2.900002</td>\n",
       "      <td>0.179330</td>\n",
       "      <td>210.191443</td>\n",
       "      <td>5.164913</td>\n",
       "      <td>1.500564</td>\n",
       "      <td>3.303124</td>\n",
       "      <td>9.687683</td>\n",
       "      <td>195.427583</td>\n",
       "      <td>229.090427</td>\n",
       "      <td>NaN</td>\n",
       "    </tr>\n",
       "    <tr>\n",
       "      <th>min</th>\n",
       "      <td>75201.000000</td>\n",
       "      <td>28.057658</td>\n",
       "      <td>-100.076842</td>\n",
       "      <td>4.300000</td>\n",
       "      <td>1.000000</td>\n",
       "      <td>0.000000</td>\n",
       "      <td>0.000000</td>\n",
       "      <td>0.000000</td>\n",
       "      <td>0.000000</td>\n",
       "      <td>1.000000</td>\n",
       "      <td>1.000000</td>\n",
       "      <td>NaN</td>\n",
       "    </tr>\n",
       "    <tr>\n",
       "      <th>25%</th>\n",
       "      <td>75215.000000</td>\n",
       "      <td>32.701733</td>\n",
       "      <td>-96.839304</td>\n",
       "      <td>4.700000</td>\n",
       "      <td>15.000000</td>\n",
       "      <td>0.000000</td>\n",
       "      <td>0.000000</td>\n",
       "      <td>0.000000</td>\n",
       "      <td>0.000000</td>\n",
       "      <td>13.000000</td>\n",
       "      <td>3.750000</td>\n",
       "      <td>NaN</td>\n",
       "    </tr>\n",
       "    <tr>\n",
       "      <th>50%</th>\n",
       "      <td>75223.500000</td>\n",
       "      <td>32.762985</td>\n",
       "      <td>-96.795373</td>\n",
       "      <td>4.700000</td>\n",
       "      <td>25.000000</td>\n",
       "      <td>1.000000</td>\n",
       "      <td>0.000000</td>\n",
       "      <td>1.000000</td>\n",
       "      <td>2.000000</td>\n",
       "      <td>20.000000</td>\n",
       "      <td>10.000000</td>\n",
       "      <td>NaN</td>\n",
       "    </tr>\n",
       "    <tr>\n",
       "      <th>75%</th>\n",
       "      <td>75232.250000</td>\n",
       "      <td>32.832781</td>\n",
       "      <td>-96.745405</td>\n",
       "      <td>4.875000</td>\n",
       "      <td>67.000000</td>\n",
       "      <td>2.750000</td>\n",
       "      <td>1.000000</td>\n",
       "      <td>2.000000</td>\n",
       "      <td>4.000000</td>\n",
       "      <td>58.000000</td>\n",
       "      <td>31.750000</td>\n",
       "      <td>NaN</td>\n",
       "    </tr>\n",
       "    <tr>\n",
       "      <th>max</th>\n",
       "      <td>75287.000000</td>\n",
       "      <td>33.003440</td>\n",
       "      <td>-76.618311</td>\n",
       "      <td>5.000000</td>\n",
       "      <td>920.000000</td>\n",
       "      <td>28.000000</td>\n",
       "      <td>8.000000</td>\n",
       "      <td>15.000000</td>\n",
       "      <td>46.000000</td>\n",
       "      <td>896.000000</td>\n",
       "      <td>1147.000000</td>\n",
       "      <td>NaN</td>\n",
       "    </tr>\n",
       "  </tbody>\n",
       "</table>\n",
       "</div>"
      ],
      "text/plain": [
       "        postal_code   latitude   longitude     rating     reviews  \\\n",
       "count     48.000000  50.000000   50.000000  46.000000   46.000000   \n",
       "mean   75224.520833  32.660032  -96.449629   4.736957   98.956522   \n",
       "std       16.542646   0.697325    2.900002   0.179330  210.191443   \n",
       "min    75201.000000  28.057658 -100.076842   4.300000    1.000000   \n",
       "25%    75215.000000  32.701733  -96.839304   4.700000   15.000000   \n",
       "50%    75223.500000  32.762985  -96.795373   4.700000   25.000000   \n",
       "75%    75232.250000  32.832781  -96.745405   4.875000   67.000000   \n",
       "max    75287.000000  33.003440  -76.618311   5.000000  920.000000   \n",
       "\n",
       "       reviews_per_score_1  reviews_per_score_2  reviews_per_score_3  \\\n",
       "count            46.000000            46.000000            46.000000   \n",
       "mean              2.347826             0.717391             2.021739   \n",
       "std               5.164913             1.500564             3.303124   \n",
       "min               0.000000             0.000000             0.000000   \n",
       "25%               0.000000             0.000000             0.000000   \n",
       "50%               1.000000             0.000000             1.000000   \n",
       "75%               2.750000             1.000000             2.000000   \n",
       "max              28.000000             8.000000            15.000000   \n",
       "\n",
       "       reviews_per_score_4  reviews_per_score_5  photos_count  other_hours  \n",
       "count            46.000000            46.000000     48.000000          0.0  \n",
       "mean              5.434783            88.434783     83.291667          NaN  \n",
       "std               9.687683           195.427583    229.090427          NaN  \n",
       "min               0.000000             1.000000      1.000000          NaN  \n",
       "25%               0.000000            13.000000      3.750000          NaN  \n",
       "50%               2.000000            20.000000     10.000000          NaN  \n",
       "75%               4.000000            58.000000     31.750000          NaN  \n",
       "max              46.000000           896.000000   1147.000000          NaN  "
      ]
     },
     "execution_count": 36,
     "metadata": {},
     "output_type": "execute_result"
    }
   ],
   "source": [
    "#check the statistics\n",
    "data.describe()"
   ]
  },
  {
   "cell_type": "markdown",
   "id": "162d1f67",
   "metadata": {},
   "source": [
    "# Data cleaning\n",
    "\n",
    "We will start by cleaning the dataset, removing any unnecessary columns and handling missing values, if any.\n"
   ]
  },
  {
   "cell_type": "code",
   "execution_count": 37,
   "id": "d4cb6171",
   "metadata": {},
   "outputs": [
    {
     "data": {
      "text/plain": [
       "Index(['query', 'name', 'site', 'pastored_by_africans', 'pastors_name',\n",
       "       'populated_immigrant_country', 'type', 'subtype', 'category', 'about',\n",
       "       'phone', 'full_address', 'borough', 'street', 'city', 'postal_code',\n",
       "       'state', 'us_state', 'country', 'country_code', 'latitude', 'longitude',\n",
       "       'time_zone', 'plus_code', 'area_service', 'working_hours',\n",
       "       'working_hours_old_format', 'rating', 'reviews', 'reviews_link',\n",
       "       'reviews_tags', 'reviews_per_score', 'reviews_per_score_1',\n",
       "       'reviews_per_score_2', 'reviews_per_score_3', 'reviews_per_score_4',\n",
       "       'reviews_per_score_5', 'photos_count', 'photo', 'street_view',\n",
       "       'located_in', 'other_hours', 'business_status', 'verified',\n",
       "       'location_link', 'email_1', 'email_1_full_name', 'email_1_title',\n",
       "       'email_2', 'email_2_full_name', 'email_2_title', 'email_3',\n",
       "       'email_3_full_name', 'phone_1', 'phone_2', 'facebook', 'instagram',\n",
       "       'linkedin', 'whatsapp', 'twitter', 'vimeo', 'youtube'],\n",
       "      dtype='object')"
      ]
     },
     "execution_count": 37,
     "metadata": {},
     "output_type": "execute_result"
    }
   ],
   "source": [
    "data.columns"
   ]
  },
  {
   "cell_type": "code",
   "execution_count": 38,
   "id": "2051f49e",
   "metadata": {},
   "outputs": [],
   "source": [
    "# Drop irrelevant columns\n",
    "data = data.drop(['query', 'type', 'city', 'state', 'us_state', 'country', 'country_code', 'plus_code', 'reviews_tags', 'reviews_per_score_1', 'reviews_per_score_2', 'reviews_per_score_3', 'reviews_per_score_4', 'reviews_per_score_5', 'photos_count', 'photo', 'street_view', 'located_in', 'other_hours', 'whatsapp', 'vimeo'], axis=1)\n"
   ]
  },
  {
   "cell_type": "code",
   "execution_count": 39,
   "id": "b7db82f2",
   "metadata": {},
   "outputs": [],
   "source": [
    "# Drop irrelevant columns\n",
    "data = data.drop(['phone_1', 'phone_2', 'email_2_title', 'email_3_full_name', 'email_2_full_name', 'email_1_full_name', 'email_1_title'], axis=1)"
   ]
  },
  {
   "cell_type": "code",
   "execution_count": 40,
   "id": "ad52385c",
   "metadata": {},
   "outputs": [
    {
     "data": {
      "text/html": [
       "<div>\n",
       "<style scoped>\n",
       "    .dataframe tbody tr th:only-of-type {\n",
       "        vertical-align: middle;\n",
       "    }\n",
       "\n",
       "    .dataframe tbody tr th {\n",
       "        vertical-align: top;\n",
       "    }\n",
       "\n",
       "    .dataframe thead th {\n",
       "        text-align: right;\n",
       "    }\n",
       "</style>\n",
       "<table border=\"1\" class=\"dataframe\">\n",
       "  <thead>\n",
       "    <tr style=\"text-align: right;\">\n",
       "      <th></th>\n",
       "      <th>name</th>\n",
       "      <th>site</th>\n",
       "      <th>pastored_by_africans</th>\n",
       "      <th>pastors_name</th>\n",
       "      <th>populated_immigrant_country</th>\n",
       "      <th>subtype</th>\n",
       "      <th>category</th>\n",
       "      <th>about</th>\n",
       "      <th>phone</th>\n",
       "      <th>full_address</th>\n",
       "      <th>...</th>\n",
       "      <th>verified</th>\n",
       "      <th>location_link</th>\n",
       "      <th>email_1</th>\n",
       "      <th>email_2</th>\n",
       "      <th>email_3</th>\n",
       "      <th>facebook</th>\n",
       "      <th>instagram</th>\n",
       "      <th>linkedin</th>\n",
       "      <th>twitter</th>\n",
       "      <th>youtube</th>\n",
       "    </tr>\n",
       "  </thead>\n",
       "  <tbody>\n",
       "    <tr>\n",
       "      <th>0</th>\n",
       "      <td>Rccg Victory Center Dallas</td>\n",
       "      <td>http://www.rccgdallas.org/</td>\n",
       "      <td>Yes</td>\n",
       "      <td>NaN</td>\n",
       "      <td>Nigeria</td>\n",
       "      <td>Church</td>\n",
       "      <td>Church</td>\n",
       "      <td>{\"Accessibility\": {\"Wheelchair accessible entr...</td>\n",
       "      <td>NaN</td>\n",
       "      <td>11836 Judd Ct #352, Dallas, TX 75243</td>\n",
       "      <td>...</td>\n",
       "      <td>False</td>\n",
       "      <td>https://www.google.com/maps/place/Rccg+Victory...</td>\n",
       "      <td>info@rccgdallas.org</td>\n",
       "      <td>victorycenterdallas@gmail.com</td>\n",
       "      <td>NaN</td>\n",
       "      <td>NaN</td>\n",
       "      <td>https://www.instagram.com/victorycenterdallas</td>\n",
       "      <td>NaN</td>\n",
       "      <td>https://twitter.com/DallasRccg</td>\n",
       "      <td>https://www.youtube.com/channel/UCDrm2qh9_3Cr9...</td>\n",
       "    </tr>\n",
       "    <tr>\n",
       "      <th>1</th>\n",
       "      <td>Macedonia Baptist Church</td>\n",
       "      <td>https://www.mmbcdallas.org/</td>\n",
       "      <td>Yes</td>\n",
       "      <td>Pastor Frederick Norris, Sr.</td>\n",
       "      <td>South Africa</td>\n",
       "      <td>Baptist church</td>\n",
       "      <td>Baptist church</td>\n",
       "      <td>{\"Accessibility\": {\"Wheelchair accessible entr...</td>\n",
       "      <td>+1 214-827-3814</td>\n",
       "      <td>3501 San Jacinto St, Dallas, TX 75204</td>\n",
       "      <td>...</td>\n",
       "      <td>True</td>\n",
       "      <td>https://www.google.com/maps/place/Macedonia+Ba...</td>\n",
       "      <td>info@mysite.com</td>\n",
       "      <td>mmbcdallaspa@yahoo.com</td>\n",
       "      <td>macedoniambcdallas@yahoo.com</td>\n",
       "      <td>NaN</td>\n",
       "      <td>NaN</td>\n",
       "      <td>NaN</td>\n",
       "      <td>NaN</td>\n",
       "      <td>NaN</td>\n",
       "    </tr>\n",
       "    <tr>\n",
       "      <th>2</th>\n",
       "      <td>Pilgrim Rest Missionary Baptist Church</td>\n",
       "      <td>http://www.pilgrimrestdallas.org/</td>\n",
       "      <td>Yes</td>\n",
       "      <td>Dr. Carlos D. Williams</td>\n",
       "      <td>South Africa</td>\n",
       "      <td>Baptist church, Church</td>\n",
       "      <td>Baptist church</td>\n",
       "      <td>{\"Accessibility\": {\"Wheelchair accessible entr...</td>\n",
       "      <td>+1 214-823-7308</td>\n",
       "      <td>1819 N Washington Ave, Dallas, TX 75204</td>\n",
       "      <td>...</td>\n",
       "      <td>False</td>\n",
       "      <td>https://www.google.com/maps/place/Pilgrim+Rest...</td>\n",
       "      <td>c.wallace@pilgrimrestdallas.org</td>\n",
       "      <td>tdunlap@pilgrimrestdallas.org</td>\n",
       "      <td>membership@pilgrimrestdallas.org</td>\n",
       "      <td>http://www.facebook.com/PRMBCdallas</td>\n",
       "      <td>https://www.instagram.com/pilgrimrestdallas</td>\n",
       "      <td>http://www.linkedin.com/company/4028841</td>\n",
       "      <td>NaN</td>\n",
       "      <td>https://www.youtube.com/channel/UC0u-gT9WLxfkL...</td>\n",
       "    </tr>\n",
       "    <tr>\n",
       "      <th>3</th>\n",
       "      <td>Gospel Light Eritrean Baptist Church Dallas</td>\n",
       "      <td>https://www.berhanwongeldallas.org/</td>\n",
       "      <td>No</td>\n",
       "      <td>NaN</td>\n",
       "      <td>Cameroon</td>\n",
       "      <td>Baptist church</td>\n",
       "      <td>Baptist church</td>\n",
       "      <td>{\"Accessibility\": {\"Wheelchair accessible entr...</td>\n",
       "      <td>+1 214-327-5700</td>\n",
       "      <td>11110 Garland Rd, Dallas, TX 75218</td>\n",
       "      <td>...</td>\n",
       "      <td>True</td>\n",
       "      <td>https://www.google.com/maps/place/Gospel+Light...</td>\n",
       "      <td>bwchurchelders@gmail.com</td>\n",
       "      <td>NaN</td>\n",
       "      <td>NaN</td>\n",
       "      <td>http://facebook.com/berhanwongeldallas</td>\n",
       "      <td>NaN</td>\n",
       "      <td>NaN</td>\n",
       "      <td>http://twitter.com/bwongeldallas</td>\n",
       "      <td>NaN</td>\n",
       "    </tr>\n",
       "    <tr>\n",
       "      <th>4</th>\n",
       "      <td>The Shining Light Church</td>\n",
       "      <td>http://www.sliwot.org/</td>\n",
       "      <td>Yes</td>\n",
       "      <td>NaN</td>\n",
       "      <td>Togo</td>\n",
       "      <td>Non-denominational church, Church</td>\n",
       "      <td>Non-denominational church</td>\n",
       "      <td>{\"Accessibility\": {\"Wheelchair accessible entr...</td>\n",
       "      <td>+1 800-655-5828</td>\n",
       "      <td>10721 Plano Rd, Dallas, TX 75238</td>\n",
       "      <td>...</td>\n",
       "      <td>False</td>\n",
       "      <td>https://www.google.com/maps/place/The+Shining+...</td>\n",
       "      <td>bbcmail@brainerdbaptist.org</td>\n",
       "      <td>prayer@fireforce.us</td>\n",
       "      <td>NaN</td>\n",
       "      <td>https://www.facebook.com/brainerdbaptist</td>\n",
       "      <td>http://instagram.com/brainerdbaptist</td>\n",
       "      <td>NaN</td>\n",
       "      <td>https://twitter.com/BrainerdBaptist</td>\n",
       "      <td>NaN</td>\n",
       "    </tr>\n",
       "  </tbody>\n",
       "</table>\n",
       "<p>5 rows × 34 columns</p>\n",
       "</div>"
      ],
      "text/plain": [
       "                                          name  \\\n",
       "0                   Rccg Victory Center Dallas   \n",
       "1                     Macedonia Baptist Church   \n",
       "2       Pilgrim Rest Missionary Baptist Church   \n",
       "3  Gospel Light Eritrean Baptist Church Dallas   \n",
       "4                     The Shining Light Church   \n",
       "\n",
       "                                  site pastored_by_africans  \\\n",
       "0           http://www.rccgdallas.org/                  Yes   \n",
       "1          https://www.mmbcdallas.org/                  Yes   \n",
       "2    http://www.pilgrimrestdallas.org/                  Yes   \n",
       "3  https://www.berhanwongeldallas.org/                   No   \n",
       "4               http://www.sliwot.org/                  Yes   \n",
       "\n",
       "                   pastors_name populated_immigrant_country  \\\n",
       "0                           NaN                     Nigeria   \n",
       "1  Pastor Frederick Norris, Sr.                South Africa   \n",
       "2        Dr. Carlos D. Williams                South Africa   \n",
       "3                           NaN                    Cameroon   \n",
       "4                           NaN                        Togo   \n",
       "\n",
       "                             subtype                   category  \\\n",
       "0                             Church                     Church   \n",
       "1                     Baptist church             Baptist church   \n",
       "2             Baptist church, Church             Baptist church   \n",
       "3                     Baptist church             Baptist church   \n",
       "4  Non-denominational church, Church  Non-denominational church   \n",
       "\n",
       "                                               about            phone  \\\n",
       "0  {\"Accessibility\": {\"Wheelchair accessible entr...              NaN   \n",
       "1  {\"Accessibility\": {\"Wheelchair accessible entr...  +1 214-827-3814   \n",
       "2  {\"Accessibility\": {\"Wheelchair accessible entr...  +1 214-823-7308   \n",
       "3  {\"Accessibility\": {\"Wheelchair accessible entr...  +1 214-327-5700   \n",
       "4  {\"Accessibility\": {\"Wheelchair accessible entr...  +1 800-655-5828   \n",
       "\n",
       "                              full_address  ... verified  \\\n",
       "0     11836 Judd Ct #352, Dallas, TX 75243  ...    False   \n",
       "1    3501 San Jacinto St, Dallas, TX 75204  ...     True   \n",
       "2  1819 N Washington Ave, Dallas, TX 75204  ...    False   \n",
       "3       11110 Garland Rd, Dallas, TX 75218  ...     True   \n",
       "4         10721 Plano Rd, Dallas, TX 75238  ...    False   \n",
       "\n",
       "                                       location_link  \\\n",
       "0  https://www.google.com/maps/place/Rccg+Victory...   \n",
       "1  https://www.google.com/maps/place/Macedonia+Ba...   \n",
       "2  https://www.google.com/maps/place/Pilgrim+Rest...   \n",
       "3  https://www.google.com/maps/place/Gospel+Light...   \n",
       "4  https://www.google.com/maps/place/The+Shining+...   \n",
       "\n",
       "                           email_1                        email_2  \\\n",
       "0              info@rccgdallas.org  victorycenterdallas@gmail.com   \n",
       "1                  info@mysite.com         mmbcdallaspa@yahoo.com   \n",
       "2  c.wallace@pilgrimrestdallas.org  tdunlap@pilgrimrestdallas.org   \n",
       "3         bwchurchelders@gmail.com                            NaN   \n",
       "4      bbcmail@brainerdbaptist.org            prayer@fireforce.us   \n",
       "\n",
       "                            email_3                                  facebook  \\\n",
       "0                               NaN                                       NaN   \n",
       "1      macedoniambcdallas@yahoo.com                                       NaN   \n",
       "2  membership@pilgrimrestdallas.org       http://www.facebook.com/PRMBCdallas   \n",
       "3                               NaN    http://facebook.com/berhanwongeldallas   \n",
       "4                               NaN  https://www.facebook.com/brainerdbaptist   \n",
       "\n",
       "                                       instagram  \\\n",
       "0  https://www.instagram.com/victorycenterdallas   \n",
       "1                                            NaN   \n",
       "2    https://www.instagram.com/pilgrimrestdallas   \n",
       "3                                            NaN   \n",
       "4           http://instagram.com/brainerdbaptist   \n",
       "\n",
       "                                  linkedin  \\\n",
       "0                                      NaN   \n",
       "1                                      NaN   \n",
       "2  http://www.linkedin.com/company/4028841   \n",
       "3                                      NaN   \n",
       "4                                      NaN   \n",
       "\n",
       "                               twitter  \\\n",
       "0       https://twitter.com/DallasRccg   \n",
       "1                                  NaN   \n",
       "2                                  NaN   \n",
       "3     http://twitter.com/bwongeldallas   \n",
       "4  https://twitter.com/BrainerdBaptist   \n",
       "\n",
       "                                             youtube  \n",
       "0  https://www.youtube.com/channel/UCDrm2qh9_3Cr9...  \n",
       "1                                                NaN  \n",
       "2  https://www.youtube.com/channel/UC0u-gT9WLxfkL...  \n",
       "3                                                NaN  \n",
       "4                                                NaN  \n",
       "\n",
       "[5 rows x 34 columns]"
      ]
     },
     "execution_count": 40,
     "metadata": {},
     "output_type": "execute_result"
    }
   ],
   "source": [
    "data.head()"
   ]
  },
  {
   "cell_type": "code",
   "execution_count": 41,
   "id": "b8080090",
   "metadata": {},
   "outputs": [],
   "source": [
    "# rename the column\n",
    "data.rename(columns={'about': 'demography'}, inplace=True)"
   ]
  },
  {
   "cell_type": "code",
   "execution_count": 42,
   "id": "57f6ce4e",
   "metadata": {},
   "outputs": [
    {
     "data": {
      "text/plain": [
       "Index(['name', 'site', 'pastored_by_africans', 'pastors_name',\n",
       "       'populated_immigrant_country', 'subtype', 'category', 'demography',\n",
       "       'phone', 'full_address', 'borough', 'street', 'postal_code', 'latitude',\n",
       "       'longitude', 'time_zone', 'area_service', 'working_hours',\n",
       "       'working_hours_old_format', 'rating', 'reviews', 'reviews_link',\n",
       "       'reviews_per_score', 'business_status', 'verified', 'location_link',\n",
       "       'email_1', 'email_2', 'email_3', 'facebook', 'instagram', 'linkedin',\n",
       "       'twitter', 'youtube'],\n",
       "      dtype='object')"
      ]
     },
     "execution_count": 42,
     "metadata": {},
     "output_type": "execute_result"
    }
   ],
   "source": [
    "data.columns"
   ]
  },
  {
   "cell_type": "code",
   "execution_count": 44,
   "id": "5167e7b5",
   "metadata": {},
   "outputs": [
    {
     "name": "stdout",
     "output_type": "stream",
     "text": [
      "name                            0\n",
      "site                            0\n",
      "pastored_by_africans            2\n",
      "pastors_name                   11\n",
      "populated_immigrant_country     0\n",
      "subtype                         0\n",
      "category                        0\n",
      "demography                      0\n",
      "phone                           3\n",
      "full_address                    2\n",
      "borough                         6\n",
      "street                          2\n",
      "postal_code                     2\n",
      "latitude                        0\n",
      "longitude                       0\n",
      "time_zone                       0\n",
      "area_service                    0\n",
      "working_hours                  16\n",
      "working_hours_old_format       16\n",
      "rating                          4\n",
      "reviews                         4\n",
      "reviews_link                   14\n",
      "reviews_per_score               4\n",
      "business_status                 0\n",
      "verified                        0\n",
      "location_link                   0\n",
      "email_1                         0\n",
      "email_2                        17\n",
      "email_3                        29\n",
      "facebook                       20\n",
      "instagram                      30\n",
      "linkedin                       41\n",
      "twitter                        30\n",
      "youtube                        32\n",
      "dtype: int64\n"
     ]
    }
   ],
   "source": [
    "# Check for missing values\n",
    "print(data.isnull().sum())"
   ]
  },
  {
   "cell_type": "code",
   "execution_count": 45,
   "id": "ab3fad4d",
   "metadata": {},
   "outputs": [],
   "source": [
    "# Fill the empty values with 'N/A'\n",
    "data.fillna('N/A', inplace=True)"
   ]
  },
  {
   "cell_type": "code",
   "execution_count": 46,
   "id": "aa7de93f",
   "metadata": {},
   "outputs": [
    {
     "name": "stdout",
     "output_type": "stream",
     "text": [
      "name                           0\n",
      "site                           0\n",
      "pastored_by_africans           0\n",
      "pastors_name                   0\n",
      "populated_immigrant_country    0\n",
      "subtype                        0\n",
      "category                       0\n",
      "demography                     0\n",
      "phone                          0\n",
      "full_address                   0\n",
      "borough                        0\n",
      "street                         0\n",
      "postal_code                    0\n",
      "latitude                       0\n",
      "longitude                      0\n",
      "time_zone                      0\n",
      "area_service                   0\n",
      "working_hours                  0\n",
      "working_hours_old_format       0\n",
      "rating                         0\n",
      "reviews                        0\n",
      "reviews_link                   0\n",
      "reviews_per_score              0\n",
      "business_status                0\n",
      "verified                       0\n",
      "location_link                  0\n",
      "email_1                        0\n",
      "email_2                        0\n",
      "email_3                        0\n",
      "facebook                       0\n",
      "instagram                      0\n",
      "linkedin                       0\n",
      "twitter                        0\n",
      "youtube                        0\n",
      "dtype: int64\n"
     ]
    }
   ],
   "source": [
    "# Check for missing values again\n",
    "print(data.isnull().sum())"
   ]
  },
  {
   "cell_type": "code",
   "execution_count": 47,
   "id": "f80485dd",
   "metadata": {},
   "outputs": [
    {
     "data": {
      "text/html": [
       "<div>\n",
       "<style scoped>\n",
       "    .dataframe tbody tr th:only-of-type {\n",
       "        vertical-align: middle;\n",
       "    }\n",
       "\n",
       "    .dataframe tbody tr th {\n",
       "        vertical-align: top;\n",
       "    }\n",
       "\n",
       "    .dataframe thead th {\n",
       "        text-align: right;\n",
       "    }\n",
       "</style>\n",
       "<table border=\"1\" class=\"dataframe\">\n",
       "  <thead>\n",
       "    <tr style=\"text-align: right;\">\n",
       "      <th></th>\n",
       "      <th>name</th>\n",
       "      <th>site</th>\n",
       "      <th>pastored_by_africans</th>\n",
       "      <th>pastors_name</th>\n",
       "      <th>populated_immigrant_country</th>\n",
       "      <th>subtype</th>\n",
       "      <th>category</th>\n",
       "      <th>demography</th>\n",
       "      <th>phone</th>\n",
       "      <th>full_address</th>\n",
       "      <th>...</th>\n",
       "      <th>verified</th>\n",
       "      <th>location_link</th>\n",
       "      <th>email_1</th>\n",
       "      <th>email_2</th>\n",
       "      <th>email_3</th>\n",
       "      <th>facebook</th>\n",
       "      <th>instagram</th>\n",
       "      <th>linkedin</th>\n",
       "      <th>twitter</th>\n",
       "      <th>youtube</th>\n",
       "    </tr>\n",
       "  </thead>\n",
       "  <tbody>\n",
       "    <tr>\n",
       "      <th>0</th>\n",
       "      <td>Rccg Victory Center Dallas</td>\n",
       "      <td>http://www.rccgdallas.org/</td>\n",
       "      <td>Yes</td>\n",
       "      <td>N/A</td>\n",
       "      <td>Nigeria</td>\n",
       "      <td>Church</td>\n",
       "      <td>Church</td>\n",
       "      <td>{\"Accessibility\": {\"Wheelchair accessible entr...</td>\n",
       "      <td>N/A</td>\n",
       "      <td>11836 Judd Ct #352, Dallas, TX 75243</td>\n",
       "      <td>...</td>\n",
       "      <td>False</td>\n",
       "      <td>https://www.google.com/maps/place/Rccg+Victory...</td>\n",
       "      <td>info@rccgdallas.org</td>\n",
       "      <td>victorycenterdallas@gmail.com</td>\n",
       "      <td>N/A</td>\n",
       "      <td>N/A</td>\n",
       "      <td>https://www.instagram.com/victorycenterdallas</td>\n",
       "      <td>N/A</td>\n",
       "      <td>https://twitter.com/DallasRccg</td>\n",
       "      <td>https://www.youtube.com/channel/UCDrm2qh9_3Cr9...</td>\n",
       "    </tr>\n",
       "    <tr>\n",
       "      <th>1</th>\n",
       "      <td>Macedonia Baptist Church</td>\n",
       "      <td>https://www.mmbcdallas.org/</td>\n",
       "      <td>Yes</td>\n",
       "      <td>Pastor Frederick Norris, Sr.</td>\n",
       "      <td>South Africa</td>\n",
       "      <td>Baptist church</td>\n",
       "      <td>Baptist church</td>\n",
       "      <td>{\"Accessibility\": {\"Wheelchair accessible entr...</td>\n",
       "      <td>+1 214-827-3814</td>\n",
       "      <td>3501 San Jacinto St, Dallas, TX 75204</td>\n",
       "      <td>...</td>\n",
       "      <td>True</td>\n",
       "      <td>https://www.google.com/maps/place/Macedonia+Ba...</td>\n",
       "      <td>info@mysite.com</td>\n",
       "      <td>mmbcdallaspa@yahoo.com</td>\n",
       "      <td>macedoniambcdallas@yahoo.com</td>\n",
       "      <td>N/A</td>\n",
       "      <td>N/A</td>\n",
       "      <td>N/A</td>\n",
       "      <td>N/A</td>\n",
       "      <td>N/A</td>\n",
       "    </tr>\n",
       "    <tr>\n",
       "      <th>2</th>\n",
       "      <td>Pilgrim Rest Missionary Baptist Church</td>\n",
       "      <td>http://www.pilgrimrestdallas.org/</td>\n",
       "      <td>Yes</td>\n",
       "      <td>Dr. Carlos D. Williams</td>\n",
       "      <td>South Africa</td>\n",
       "      <td>Baptist church, Church</td>\n",
       "      <td>Baptist church</td>\n",
       "      <td>{\"Accessibility\": {\"Wheelchair accessible entr...</td>\n",
       "      <td>+1 214-823-7308</td>\n",
       "      <td>1819 N Washington Ave, Dallas, TX 75204</td>\n",
       "      <td>...</td>\n",
       "      <td>False</td>\n",
       "      <td>https://www.google.com/maps/place/Pilgrim+Rest...</td>\n",
       "      <td>c.wallace@pilgrimrestdallas.org</td>\n",
       "      <td>tdunlap@pilgrimrestdallas.org</td>\n",
       "      <td>membership@pilgrimrestdallas.org</td>\n",
       "      <td>http://www.facebook.com/PRMBCdallas</td>\n",
       "      <td>https://www.instagram.com/pilgrimrestdallas</td>\n",
       "      <td>http://www.linkedin.com/company/4028841</td>\n",
       "      <td>N/A</td>\n",
       "      <td>https://www.youtube.com/channel/UC0u-gT9WLxfkL...</td>\n",
       "    </tr>\n",
       "    <tr>\n",
       "      <th>3</th>\n",
       "      <td>Gospel Light Eritrean Baptist Church Dallas</td>\n",
       "      <td>https://www.berhanwongeldallas.org/</td>\n",
       "      <td>No</td>\n",
       "      <td>N/A</td>\n",
       "      <td>Cameroon</td>\n",
       "      <td>Baptist church</td>\n",
       "      <td>Baptist church</td>\n",
       "      <td>{\"Accessibility\": {\"Wheelchair accessible entr...</td>\n",
       "      <td>+1 214-327-5700</td>\n",
       "      <td>11110 Garland Rd, Dallas, TX 75218</td>\n",
       "      <td>...</td>\n",
       "      <td>True</td>\n",
       "      <td>https://www.google.com/maps/place/Gospel+Light...</td>\n",
       "      <td>bwchurchelders@gmail.com</td>\n",
       "      <td>N/A</td>\n",
       "      <td>N/A</td>\n",
       "      <td>http://facebook.com/berhanwongeldallas</td>\n",
       "      <td>N/A</td>\n",
       "      <td>N/A</td>\n",
       "      <td>http://twitter.com/bwongeldallas</td>\n",
       "      <td>N/A</td>\n",
       "    </tr>\n",
       "    <tr>\n",
       "      <th>4</th>\n",
       "      <td>The Shining Light Church</td>\n",
       "      <td>http://www.sliwot.org/</td>\n",
       "      <td>Yes</td>\n",
       "      <td>N/A</td>\n",
       "      <td>Togo</td>\n",
       "      <td>Non-denominational church, Church</td>\n",
       "      <td>Non-denominational church</td>\n",
       "      <td>{\"Accessibility\": {\"Wheelchair accessible entr...</td>\n",
       "      <td>+1 800-655-5828</td>\n",
       "      <td>10721 Plano Rd, Dallas, TX 75238</td>\n",
       "      <td>...</td>\n",
       "      <td>False</td>\n",
       "      <td>https://www.google.com/maps/place/The+Shining+...</td>\n",
       "      <td>bbcmail@brainerdbaptist.org</td>\n",
       "      <td>prayer@fireforce.us</td>\n",
       "      <td>N/A</td>\n",
       "      <td>https://www.facebook.com/brainerdbaptist</td>\n",
       "      <td>http://instagram.com/brainerdbaptist</td>\n",
       "      <td>N/A</td>\n",
       "      <td>https://twitter.com/BrainerdBaptist</td>\n",
       "      <td>N/A</td>\n",
       "    </tr>\n",
       "  </tbody>\n",
       "</table>\n",
       "<p>5 rows × 34 columns</p>\n",
       "</div>"
      ],
      "text/plain": [
       "                                          name  \\\n",
       "0                   Rccg Victory Center Dallas   \n",
       "1                     Macedonia Baptist Church   \n",
       "2       Pilgrim Rest Missionary Baptist Church   \n",
       "3  Gospel Light Eritrean Baptist Church Dallas   \n",
       "4                     The Shining Light Church   \n",
       "\n",
       "                                  site pastored_by_africans  \\\n",
       "0           http://www.rccgdallas.org/                  Yes   \n",
       "1          https://www.mmbcdallas.org/                  Yes   \n",
       "2    http://www.pilgrimrestdallas.org/                  Yes   \n",
       "3  https://www.berhanwongeldallas.org/                   No   \n",
       "4               http://www.sliwot.org/                  Yes   \n",
       "\n",
       "                   pastors_name populated_immigrant_country  \\\n",
       "0                           N/A                     Nigeria   \n",
       "1  Pastor Frederick Norris, Sr.                South Africa   \n",
       "2        Dr. Carlos D. Williams                South Africa   \n",
       "3                           N/A                    Cameroon   \n",
       "4                           N/A                        Togo   \n",
       "\n",
       "                             subtype                   category  \\\n",
       "0                             Church                     Church   \n",
       "1                     Baptist church             Baptist church   \n",
       "2             Baptist church, Church             Baptist church   \n",
       "3                     Baptist church             Baptist church   \n",
       "4  Non-denominational church, Church  Non-denominational church   \n",
       "\n",
       "                                          demography            phone  \\\n",
       "0  {\"Accessibility\": {\"Wheelchair accessible entr...              N/A   \n",
       "1  {\"Accessibility\": {\"Wheelchair accessible entr...  +1 214-827-3814   \n",
       "2  {\"Accessibility\": {\"Wheelchair accessible entr...  +1 214-823-7308   \n",
       "3  {\"Accessibility\": {\"Wheelchair accessible entr...  +1 214-327-5700   \n",
       "4  {\"Accessibility\": {\"Wheelchair accessible entr...  +1 800-655-5828   \n",
       "\n",
       "                              full_address  ... verified  \\\n",
       "0     11836 Judd Ct #352, Dallas, TX 75243  ...    False   \n",
       "1    3501 San Jacinto St, Dallas, TX 75204  ...     True   \n",
       "2  1819 N Washington Ave, Dallas, TX 75204  ...    False   \n",
       "3       11110 Garland Rd, Dallas, TX 75218  ...     True   \n",
       "4         10721 Plano Rd, Dallas, TX 75238  ...    False   \n",
       "\n",
       "                                       location_link  \\\n",
       "0  https://www.google.com/maps/place/Rccg+Victory...   \n",
       "1  https://www.google.com/maps/place/Macedonia+Ba...   \n",
       "2  https://www.google.com/maps/place/Pilgrim+Rest...   \n",
       "3  https://www.google.com/maps/place/Gospel+Light...   \n",
       "4  https://www.google.com/maps/place/The+Shining+...   \n",
       "\n",
       "                           email_1                        email_2  \\\n",
       "0              info@rccgdallas.org  victorycenterdallas@gmail.com   \n",
       "1                  info@mysite.com         mmbcdallaspa@yahoo.com   \n",
       "2  c.wallace@pilgrimrestdallas.org  tdunlap@pilgrimrestdallas.org   \n",
       "3         bwchurchelders@gmail.com                            N/A   \n",
       "4      bbcmail@brainerdbaptist.org            prayer@fireforce.us   \n",
       "\n",
       "                            email_3                                  facebook  \\\n",
       "0                               N/A                                       N/A   \n",
       "1      macedoniambcdallas@yahoo.com                                       N/A   \n",
       "2  membership@pilgrimrestdallas.org       http://www.facebook.com/PRMBCdallas   \n",
       "3                               N/A    http://facebook.com/berhanwongeldallas   \n",
       "4                               N/A  https://www.facebook.com/brainerdbaptist   \n",
       "\n",
       "                                       instagram  \\\n",
       "0  https://www.instagram.com/victorycenterdallas   \n",
       "1                                            N/A   \n",
       "2    https://www.instagram.com/pilgrimrestdallas   \n",
       "3                                            N/A   \n",
       "4           http://instagram.com/brainerdbaptist   \n",
       "\n",
       "                                  linkedin  \\\n",
       "0                                      N/A   \n",
       "1                                      N/A   \n",
       "2  http://www.linkedin.com/company/4028841   \n",
       "3                                      N/A   \n",
       "4                                      N/A   \n",
       "\n",
       "                               twitter  \\\n",
       "0       https://twitter.com/DallasRccg   \n",
       "1                                  N/A   \n",
       "2                                  N/A   \n",
       "3     http://twitter.com/bwongeldallas   \n",
       "4  https://twitter.com/BrainerdBaptist   \n",
       "\n",
       "                                             youtube  \n",
       "0  https://www.youtube.com/channel/UCDrm2qh9_3Cr9...  \n",
       "1                                                N/A  \n",
       "2  https://www.youtube.com/channel/UC0u-gT9WLxfkL...  \n",
       "3                                                N/A  \n",
       "4                                                N/A  \n",
       "\n",
       "[5 rows x 34 columns]"
      ]
     },
     "execution_count": 47,
     "metadata": {},
     "output_type": "execute_result"
    }
   ],
   "source": [
    "#final assesement after the cleaning process\n",
    "data.head()"
   ]
  },
  {
   "cell_type": "code",
   "execution_count": 48,
   "id": "5693f7d7",
   "metadata": {},
   "outputs": [],
   "source": [
    "# Save the updated dataset to a new CSV file\n",
    "data.to_csv('African_pastored_churches_cleaned2.csv', index=False)"
   ]
  },
  {
   "cell_type": "markdown",
   "id": "54e53995",
   "metadata": {},
   "source": [
    "# Visualizations\n",
    "\n",
    "We will create various visualizations using different charts to present the data effectively and gain insights. We can use bar charts, pie charts, scatter plots, and other appropriate charts based on the nature of the data\n",
    "\n",
    "Visualizing these insights not only helps users make informed decisions but also enhances their browsing experience on the website. By presenting the data in a visually appealing and user-friendly manner, users can quickly grasp the information they need and narrow down their options to find the most suitable African church in Dallas.\n"
   ]
  },
  {
   "cell_type": "code",
   "execution_count": 49,
   "id": "5092935b",
   "metadata": {},
   "outputs": [
    {
     "data": {
      "text/plain": [
       "Index(['name', 'site', 'pastored_by_africans', 'pastors_name',\n",
       "       'populated_immigrant_country', 'subtype', 'category', 'demography',\n",
       "       'phone', 'full_address', 'borough', 'street', 'postal_code', 'latitude',\n",
       "       'longitude', 'time_zone', 'area_service', 'working_hours',\n",
       "       'working_hours_old_format', 'rating', 'reviews', 'reviews_link',\n",
       "       'reviews_per_score', 'business_status', 'verified', 'location_link',\n",
       "       'email_1', 'email_2', 'email_3', 'facebook', 'instagram', 'linkedin',\n",
       "       'twitter', 'youtube'],\n",
       "      dtype='object')"
      ]
     },
     "execution_count": 49,
     "metadata": {},
     "output_type": "execute_result"
    }
   ],
   "source": [
    "data.columns"
   ]
  },
  {
   "cell_type": "markdown",
   "id": "c1c00355",
   "metadata": {},
   "source": [
    "Insight\n",
    "\n",
    "Church pastored by Africans: visualizations indicating the churches that has African pastors."
   ]
  },
  {
   "cell_type": "code",
   "execution_count": 52,
   "id": "eaf40bc5",
   "metadata": {},
   "outputs": [],
   "source": [
    "pastors = data['pastored_by_africans'].value_counts()"
   ]
  },
  {
   "cell_type": "code",
   "execution_count": 54,
   "id": "539a46c8",
   "metadata": {},
   "outputs": [
    {
     "data": {
      "image/png": "[encoded data removed]",
      "text/plain": [
       "<Figure size 800x800 with 1 Axes>"
      ]
     },
     "metadata": {},
     "output_type": "display_data"
    }
   ],
   "source": [
    "# Create a pie chart of service days\n",
    "plt.figure(figsize=(8, 8))\n",
    "plt.pie(pastors.values, labels=pastors.index, autopct='%1.1f%%')\n",
    "plt.title('African Pastored Churches')\n",
    "# Save the chart as a PNG file\n",
    "plt.savefig('African pastors.png')\n",
    "plt.show()"
   ]
  },
  {
   "cell_type": "markdown",
   "id": "040f9ad4",
   "metadata": {},
   "source": [
    "Insight\n",
    "\n",
    "Denomography of immigrant: Visualizations to showcase the most populated by countries \n"
   ]
  },
  {
   "cell_type": "code",
   "execution_count": 76,
   "id": "993df04b",
   "metadata": {},
   "outputs": [],
   "source": [
    "demography = data['populated_immigrant_country'].value_counts()"
   ]
  },
  {
   "cell_type": "code",
   "execution_count": 58,
   "id": "84094bc0",
   "metadata": {},
   "outputs": [
    {
     "data": {
      "image/png": "[encoded data removed]",
      "text/plain": [
       "<Figure size 1500x600 with 1 Axes>"
      ]
     },
     "metadata": {},
     "output_type": "display_data"
    }
   ],
   "source": [
    "# Create a bar plot of service day frequencies\n",
    "plt.figure(figsize=(15, 6))\n",
    "sns.countplot(data=data, x=\"populated_immigrant_country\")\n",
    "plt.title(\"Demography of Immigrant\")\n",
    "plt.xlabel(\"Countries\")\n",
    "plt.ylabel(\"Frequency\")\n",
    "# Save the chart as a PNG file\n",
    "plt.savefig('Demography_immigrant.png')\n",
    "plt.show()"
   ]
  },
  {
   "cell_type": "markdown",
   "id": "57b822c6",
   "metadata": {},
   "source": [
    "Insight\n",
    "\n",
    "Denominational Affiliations: Visualizations to showcase the denominational affiliations of African churches in Dallas.\n"
   ]
  },
  {
   "cell_type": "code",
   "execution_count": 74,
   "id": "fac9f3cf",
   "metadata": {},
   "outputs": [],
   "source": [
    "denomination = data['category'].value_counts()"
   ]
  },
  {
   "cell_type": "code",
   "execution_count": 59,
   "id": "7b3fbc20",
   "metadata": {},
   "outputs": [
    {
     "data": {
      "image/png": "[encoded data removed]",
      "text/plain": [
       "<Figure size 1200x600 with 1 Axes>"
      ]
     },
     "metadata": {},
     "output_type": "display_data"
    }
   ],
   "source": [
    "# Plot a count of churches by denomination\n",
    "plt.figure(figsize=(12, 6))\n",
    "sns.countplot(data=data, y=\"category\")\n",
    "plt.title(\"Churches by Denomination\")\n",
    "plt.xlabel(\"Count\")\n",
    "plt.ylabel(\"Denomination\")\n",
    "# Save the chart as a PNG file\n",
    "plt.savefig('church_deomination11.png')\n",
    "plt.show()"
   ]
  },
  {
   "cell_type": "markdown",
   "id": "b01c1fb1",
   "metadata": {},
   "source": [
    "Insight\n",
    "\n",
    "Church ratings: The churches ratings by people who have attended the church. this visualization shows the ratings of the churches denomination"
   ]
  },
  {
   "cell_type": "code",
   "execution_count": 62,
   "id": "2e78b6a6",
   "metadata": {},
   "outputs": [],
   "source": [
    "# Filter out rows with 'N/A' in the 'rating' column\n",
    "filtered_data = data[data['rating'] != 'N/A']"
   ]
  },
  {
   "cell_type": "code",
   "execution_count": 63,
   "id": "4dc5238a",
   "metadata": {},
   "outputs": [],
   "source": [
    "# Calculate the average rating by denomination\n",
    "average_rating = filtered_data.groupby('category')['rating'].mean().reset_index()\n"
   ]
  },
  {
   "cell_type": "code",
   "execution_count": 66,
   "id": "a75c1f03",
   "metadata": {},
   "outputs": [
    {
     "data": {
      "image/png": "[encoded data removed]",
      "text/plain": [
       "<Figure size 1000x600 with 1 Axes>"
      ]
     },
     "metadata": {},
     "output_type": "display_data"
    }
   ],
   "source": [
    "# Create a bar chart to visualize the average ratings\n",
    "plt.figure(figsize=(10, 6))\n",
    "sns.barplot(x='category', y='rating', data=average_rating)\n",
    "plt.xlabel('Denomination')\n",
    "plt.ylabel('Average Rating')\n",
    "plt.title('Average Ratings by Denomination')\n",
    "plt.xticks(rotation=90)\n",
    "# Save the chart as a PNG file\n",
    "plt.savefig('Average ratings.png')\n",
    "plt.show()"
   ]
  },
  {
   "cell_type": "markdown",
   "id": "f9ef3bf5",
   "metadata": {},
   "source": [
    "Insight\n",
    "\n",
    "Geographic Distribution: Visualize the locations of African churches on a map of Dallas, highlighting the concentration of churches in different neighborhoods or areas. This helps users identify churches that are closer to their residential or work locations, making it easier for them to find a church that suits their convenience.\n"
   ]
  },
  {
   "cell_type": "code",
   "execution_count": 71,
   "id": "f560b0ae",
   "metadata": {},
   "outputs": [
    {
     "data": {
      "image/png": "[encoded data removed]",
      "text/plain": [
       "<Figure size 1000x800 with 1 Axes>"
      ]
     },
     "metadata": {},
     "output_type": "display_data"
    }
   ],
   "source": [
    "# Plot a scatter plot of church locations\n",
    "plt.figure(figsize=(10, 8))\n",
    "sns.scatterplot(data=data, x=\"Longitude\", y=\"Latitude\", hue=\"category\", palette=\"Set1\")\n",
    "plt.title(\"Church Locations\")\n",
    "plt.xlabel(\"Longitude\")\n",
    "plt.ylabel(\"Latitude\")\n",
    "# Save the chart as a PNG file\n",
    "plt.savefig('Church_Locations1.png')\n",
    "plt.show()"
   ]
  },
  {
   "cell_type": "code",
   "execution_count": 73,
   "id": "45ea9f12",
   "metadata": {},
   "outputs": [
    {
     "data": {
      "application/vnd.plotly.v1+json": {
       "config": {
        "plotlyServerURL": "https://plot.ly"
       },
       "data": [
        {
         "customdata": [
          [
           "11836 Judd Ct #352, Dallas, TX 75243"
          ],
          [
           "3501 San Jacinto St, Dallas, TX 75204"
          ],
          [
           "1819 N Washington Ave, Dallas, TX 75204"
          ],
          [
           "11110 Garland Rd, Dallas, TX 75218"
          ],
          [
           "10721 Plano Rd, Dallas, TX 75238"
          ],
          [
           "12021 Plano Rd Suite 130 & 140, Dallas, TX 75243"
          ],
          [
           "10503 Forest Ln #144, Dallas, TX 75243"
          ],
          [
           "4004 Ivanhoe Ln, Dallas, TX 75212"
          ],
          [
           "9205 Skillman St Suite 104, Dallas, TX 75243"
          ],
          [
           "2828 Carpenter Ave, Dallas, TX 75215"
          ],
          [
           "18610 Marsh Ln, Dallas, TX 75287"
          ],
          [
           "2020 W Wheatland Rd, Dallas, TX 75232"
          ],
          [
           "7701 S Westmoreland Rd, Dallas, TX 75237"
          ],
          [
           "3410 S Polk St, Dallas, TX 75224"
          ],
          [
           "3715 S Westmoreland Rd, Dallas, TX 75233"
          ],
          [
           "1831 Canada Dr, Dallas, TX 75212"
          ],
          [
           "2002 Dennison St, Dallas, TX 75212"
          ],
          [
           "1101 Reverend CBT Smith St, Dallas, TX 75203"
          ],
          [
           "921 W Illinois Ave, Dallas, TX 75224"
          ],
          [
           "1638 Ann Arbor Ave, Dallas, TX 75216"
          ],
          [
           "7815 Arapaho Rd, Dallas, TX 75248"
          ],
          [
           "3119 Pine St, Dallas, TX 75215"
          ],
          [
           "4015 Normandy Ave, Dallas, TX 75205"
          ],
          [
           null
          ],
          [
           "5525 W Illinois Ave, Dallas, TX 75211"
          ],
          [
           "2311 E Illinois Ave, Dallas, TX 75216"
          ],
          [
           "9217 Ferguson Rd, Dallas, TX 75228"
          ],
          [
           "3611 Latimer St, Dallas, TX 75215"
          ],
          [
           "1819 Martin L King Jr Blvd, Dallas, TX 75215"
          ],
          [
           null
          ],
          [
           "8343 Bruton Rd, Dallas, TX 75227"
          ],
          [
           "12700 Hillcrest Rd, Dallas, TX 75230"
          ],
          [
           "6363 Willow Ln, Dallas, TX 75230"
          ],
          [
           "6000 Singing Hills Dr, Dallas, TX 75241"
          ],
          [
           "6728 Altaire Ave, Dallas, TX 75241"
          ],
          [
           "4347 S Hampton Rd, Dallas, TX 75232"
          ],
          [
           "1808 W Camp Wisdom Rd, Dallas, TX 75232"
          ],
          [
           "2025 W Wheatland Rd, Dallas, TX 75232"
          ],
          [
           "5144 Dolphin Rd, Dallas, TX 75223"
          ],
          [
           "2325 Locust Ave, Dallas, TX 75216"
          ],
          [
           "1438 Hortense Ave, Dallas, TX 75216"
          ],
          [
           "1323 S Ewing Ave, Dallas, TX 75216"
          ],
          [
           "344 E Saner Ave, Dallas, TX 75216"
          ],
          [
           "1835 Young St, Dallas, TX 75201"
          ],
          [
           "6810 Samuell Blvd, Dallas, TX 75227"
          ],
          [
           "1720 Gus Thomasson Rd, Dallas, TX 75228"
          ],
          [
           "1910 N St Augustine Rd, Dallas, TX 75217"
          ],
          [
           "901 S Ervay St, Dallas, TX 75201"
          ],
          [
           "1816 Routh St, Dallas, TX 75201"
          ],
          [
           "14120 Noel Rd, Dallas, TX 75254"
          ]
         ],
         "hovertemplate": "<b>%{hovertext}</b><br><br>Latitude=%{lat}<br>Longitude=%{lon}<br>full_address=%{customdata[0]}<extra></extra>",
         "hovertext": [
          "Rccg Victory Center Dallas",
          "Macedonia Baptist Church",
          "Pilgrim Rest Missionary Baptist Church",
          "Gospel Light Eritrean Baptist Church Dallas",
          "The Shining Light Church",
          "The Factory of God Church",
          "Liberate Church",
          "Galilee Church of God In Christ",
          "Apostolic Triumphant Church International - Texas Branch",
          "Greater Garth Chapel African Methodist Episcopal Church",
          "The Life Church - Dallas",
          "Friendship-West Baptist Church",
          "Inspiring Body of Christ Church",
          "The Union Church",
          "Freedom Missionary Baptist",
          "Leath Street Baptist Church",
          "Greenway Park Church of God",
          "Golden Gate Baptist Church",
          "Shiloh Missionary Baptist Church",
          "Bethel A.M.E. Church",
          "Neema Gospel Church",
          "Peoples Missionary Baptist Church",
          "First Unitarian Church of Dallas",
          "Here's Life Africa",
          "The Lighthouse Church",
          "St. Mark AME Zion Church",
          "Bethel Romanian Church",
          "Mount Moriah Missionary Baptist Church",
          "Cornerstone Baptist Church",
          "Empower Africa",
          "Greater Macedonia Church",
          "Living Hope Christian Ministries",
          "Dallas Texas Temple",
          "St Phillip Missionary Baptist",
          "True Vine of Holiness",
          "Tenth Episcopal District AME Church",
          "Oak Cliff Bible Fellowship",
          "New Covenant Christian Fellowship Church",
          "Hopewell Missionary Baptist Church",
          "Southern Crest Full Gospel",
          "Deliverance Chapel Church Of God In Christ",
          "Ewing Avenue Baptist Church",
          "Steven Temple Church of God in Christ",
          "First Presbyterian Church of Dallas",
          "Christian Stronghold Church",
          "Medhanealem Eritrean Orthodox Tewahedo Church",
          "Pleasant Zion Missionary Baptist",
          "The Anglican Mission in America",
          "St. Paul United Methodist Church",
          "​Christian Chapel Temple of Faith"
         ],
         "lat": [
          32.9103755,
          32.7957462,
          32.7986455,
          32.8465781,
          32.8960933,
          32.9121432,
          32.9099888,
          32.7915349,
          32.90411,
          32.7590466,
          33.003513,
          32.6465507,
          32.6514707,
          32.7027164,
          32.6977396,
          32.7914082,
          32.7815844,
          32.756434,
          32.7209587,
          32.6948369,
          32.9623939,
          32.7630456,
          null,
          32.838842,
          32.7205756,
          32.7176848,
          32.8160472,
          32.7614748,
          null,
          32.7630541,
          32.7490838,
          32.9221564,
          32.914276,
          32.6744476,
          32.666412,
          32.6896124,
          32.6617605,
          32.6481843,
          32.7872048,
          32.7014209,
          32.6886024,
          32.7319931,
          32.7129078,
          32.7791209,
          32.7919728,
          32.8382726,
          32.7448029,
          32.7749854,
          32.7922284,
          32.9405145
         ],
         "legendgroup": "",
         "lon": [
          -96.7422905,
          -96.7873198,
          -96.7876414,
          -96.6851564,
          -96.7009185,
          -96.7010819,
          -96.7038333,
          -96.8550565,
          -96.7153681,
          -96.7544652,
          -96.856459,
          -96.8506788,
          -96.8892231,
          -96.8396643,
          -96.8791601,
          -96.8488944,
          -96.8536493,
          -96.808121,
          -96.8384918,
          -96.7988056,
          -96.7729473,
          -96.7536297,
          null,
          -96.803798,
          -96.9139621,
          -96.7840811,
          -96.6929482,
          -96.7665029,
          null,
          -96.7763064,
          -96.676718,
          -96.7853731,
          -96.79651,
          -96.8005659,
          -96.8208942,
          -96.8576737,
          -96.8498931,
          -96.8506448,
          -96.7369886,
          -96.7851082,
          -96.8020677,
          -96.8117003,
          -96.8187262,
          -96.7940388,
          -96.6922588,
          -96.682984,
          -96.6565039,
          -96.7942899,
          -96.7964133,
          -96.8167682
         ],
         "marker": {
          "color": "#636efa"
         },
         "mode": "markers",
         "name": "",
         "showlegend": false,
         "subplot": "mapbox",
         "type": "scattermapbox"
        }
       ],
       "layout": {
        "legend": {
         "tracegroupgap": 0
        },
        "mapbox": {
         "center": {
          "lat": 32.78176150416666,
          "lon": -96.78722032083334
         },
         "domain": {
          "x": [
           0,
           1
          ],
          "y": [
           0,
           1
          ]
         },
         "style": "open-street-map",
         "zoom": 10
        },
        "margin": {
         "t": 60
        },
        "template": {
         "data": {
          "bar": [
           {
            "error_x": {
             "color": "#2a3f5f"
            },
            "error_y": {
             "color": "#2a3f5f"
            },
            "marker": {
             "line": {
              "color": "#E5ECF6",
              "width": 0.5
             },
             "pattern": {
              "fillmode": "overlay",
              "size": 10,
              "solidity": 0.2
             }
            },
            "type": "bar"
           }
          ],
          "barpolar": [
           {
            "marker": {
             "line": {
              "color": "#E5ECF6",
              "width": 0.5
             },
             "pattern": {
              "fillmode": "overlay",
              "size": 10,
              "solidity": 0.2
             }
            },
            "type": "barpolar"
           }
          ],
          "carpet": [
           {
            "aaxis": {
             "endlinecolor": "#2a3f5f",
             "gridcolor": "white",
             "linecolor": "white",
             "minorgridcolor": "white",
             "startlinecolor": "#2a3f5f"
            },
            "baxis": {
             "endlinecolor": "#2a3f5f",
             "gridcolor": "white",
             "linecolor": "white",
             "minorgridcolor": "white",
             "startlinecolor": "#2a3f5f"
            },
            "type": "carpet"
           }
          ],
          "choropleth": [
           {
            "colorbar": {
             "outlinewidth": 0,
             "ticks": ""
            },
            "type": "choropleth"
           }
          ],
          "contour": [
           {
            "colorbar": {
             "outlinewidth": 0,
             "ticks": ""
            },
            "colorscale": [
             [
              0,
              "#0d0887"
             ],
             [
              0.1111111111111111,
              "#46039f"
             ],
             [
              0.2222222222222222,
              "#7201a8"
             ],
             [
              0.3333333333333333,
              "#9c179e"
             ],
             [
              0.4444444444444444,
              "#bd3786"
             ],
             [
              0.5555555555555556,
              "#d8576b"
             ],
             [
              0.6666666666666666,
              "#ed7953"
             ],
             [
              0.7777777777777778,
              "#fb9f3a"
             ],
             [
              0.8888888888888888,
              "#fdca26"
             ],
             [
              1,
              "#f0f921"
             ]
            ],
            "type": "contour"
           }
          ],
          "contourcarpet": [
           {
            "colorbar": {
             "outlinewidth": 0,
             "ticks": ""
            },
            "type": "contourcarpet"
           }
          ],
          "heatmap": [
           {
            "colorbar": {
             "outlinewidth": 0,
             "ticks": ""
            },
            "colorscale": [
             [
              0,
              "#0d0887"
             ],
             [
              0.1111111111111111,
              "#46039f"
             ],
             [
              0.2222222222222222,
              "#7201a8"
             ],
             [
              0.3333333333333333,
              "#9c179e"
             ],
             [
              0.4444444444444444,
              "#bd3786"
             ],
             [
              0.5555555555555556,
              "#d8576b"
             ],
             [
              0.6666666666666666,
              "#ed7953"
             ],
             [
              0.7777777777777778,
              "#fb9f3a"
             ],
             [
              0.8888888888888888,
              "#fdca26"
             ],
             [
              1,
              "#f0f921"
             ]
            ],
            "type": "heatmap"
           }
          ],
          "heatmapgl": [
           {
            "colorbar": {
             "outlinewidth": 0,
             "ticks": ""
            },
            "colorscale": [
             [
              0,
              "#0d0887"
             ],
             [
              0.1111111111111111,
              "#46039f"
             ],
             [
              0.2222222222222222,
              "#7201a8"
             ],
             [
              0.3333333333333333,
              "#9c179e"
             ],
             [
              0.4444444444444444,
              "#bd3786"
             ],
             [
              0.5555555555555556,
              "#d8576b"
             ],
             [
              0.6666666666666666,
              "#ed7953"
             ],
             [
              0.7777777777777778,
              "#fb9f3a"
             ],
             [
              0.8888888888888888,
              "#fdca26"
             ],
             [
              1,
              "#f0f921"
             ]
            ],
            "type": "heatmapgl"
           }
          ],
          "histogram": [
           {
            "marker": {
             "pattern": {
              "fillmode": "overlay",
              "size": 10,
              "solidity": 0.2
             }
            },
            "type": "histogram"
           }
          ],
          "histogram2d": [
           {
            "colorbar": {
             "outlinewidth": 0,
             "ticks": ""
            },
            "colorscale": [
             [
              0,
              "#0d0887"
             ],
             [
              0.1111111111111111,
              "#46039f"
             ],
             [
              0.2222222222222222,
              "#7201a8"
             ],
             [
              0.3333333333333333,
              "#9c179e"
             ],
             [
              0.4444444444444444,
              "#bd3786"
             ],
             [
              0.5555555555555556,
              "#d8576b"
             ],
             [
              0.6666666666666666,
              "#ed7953"
             ],
             [
              0.7777777777777778,
              "#fb9f3a"
             ],
             [
              0.8888888888888888,
              "#fdca26"
             ],
             [
              1,
              "#f0f921"
             ]
            ],
            "type": "histogram2d"
           }
          ],
          "histogram2dcontour": [
           {
            "colorbar": {
             "outlinewidth": 0,
             "ticks": ""
            },
            "colorscale": [
             [
              0,
              "#0d0887"
             ],
             [
              0.1111111111111111,
              "#46039f"
             ],
             [
              0.2222222222222222,
              "#7201a8"
             ],
             [
              0.3333333333333333,
              "#9c179e"
             ],
             [
              0.4444444444444444,
              "#bd3786"
             ],
             [
              0.5555555555555556,
              "#d8576b"
             ],
             [
              0.6666666666666666,
              "#ed7953"
             ],
             [
              0.7777777777777778,
              "#fb9f3a"
             ],
             [
              0.8888888888888888,
              "#fdca26"
             ],
             [
              1,
              "#f0f921"
             ]
            ],
            "type": "histogram2dcontour"
           }
          ],
          "mesh3d": [
           {
            "colorbar": {
             "outlinewidth": 0,
             "ticks": ""
            },
            "type": "mesh3d"
           }
          ],
          "parcoords": [
           {
            "line": {
             "colorbar": {
              "outlinewidth": 0,
              "ticks": ""
             }
            },
            "type": "parcoords"
           }
          ],
          "pie": [
           {
            "automargin": true,
            "type": "pie"
           }
          ],
          "scatter": [
           {
            "fillpattern": {
             "fillmode": "overlay",
             "size": 10,
             "solidity": 0.2
            },
            "type": "scatter"
           }
          ],
          "scatter3d": [
           {
            "line": {
             "colorbar": {
              "outlinewidth": 0,
              "ticks": ""
             }
            },
            "marker": {
             "colorbar": {
              "outlinewidth": 0,
              "ticks": ""
             }
            },
            "type": "scatter3d"
           }
          ],
          "scattercarpet": [
           {
            "marker": {
             "colorbar": {
              "outlinewidth": 0,
              "ticks": ""
             }
            },
            "type": "scattercarpet"
           }
          ],
          "scattergeo": [
           {
            "marker": {
             "colorbar": {
              "outlinewidth": 0,
              "ticks": ""
             }
            },
            "type": "scattergeo"
           }
          ],
          "scattergl": [
           {
            "marker": {
             "colorbar": {
              "outlinewidth": 0,
              "ticks": ""
             }
            },
            "type": "scattergl"
           }
          ],
          "scattermapbox": [
           {
            "marker": {
             "colorbar": {
              "outlinewidth": 0,
              "ticks": ""
             }
            },
            "type": "scattermapbox"
           }
          ],
          "scatterpolar": [
           {
            "marker": {
             "colorbar": {
              "outlinewidth": 0,
              "ticks": ""
             }
            },
            "type": "scatterpolar"
           }
          ],
          "scatterpolargl": [
           {
            "marker": {
             "colorbar": {
              "outlinewidth": 0,
              "ticks": ""
             }
            },
            "type": "scatterpolargl"
           }
          ],
          "scatterternary": [
           {
            "marker": {
             "colorbar": {
              "outlinewidth": 0,
              "ticks": ""
             }
            },
            "type": "scatterternary"
           }
          ],
          "surface": [
           {
            "colorbar": {
             "outlinewidth": 0,
             "ticks": ""
            },
            "colorscale": [
             [
              0,
              "#0d0887"
             ],
             [
              0.1111111111111111,
              "#46039f"
             ],
             [
              0.2222222222222222,
              "#7201a8"
             ],
             [
              0.3333333333333333,
              "#9c179e"
             ],
             [
              0.4444444444444444,
              "#bd3786"
             ],
             [
              0.5555555555555556,
              "#d8576b"
             ],
             [
              0.6666666666666666,
              "#ed7953"
             ],
             [
              0.7777777777777778,
              "#fb9f3a"
             ],
             [
              0.8888888888888888,
              "#fdca26"
             ],
             [
              1,
              "#f0f921"
             ]
            ],
            "type": "surface"
           }
          ],
          "table": [
           {
            "cells": {
             "fill": {
              "color": "#EBF0F8"
             },
             "line": {
              "color": "white"
             }
            },
            "header": {
             "fill": {
              "color": "#C8D4E3"
             },
             "line": {
              "color": "white"
             }
            },
            "type": "table"
           }
          ]
         },
         "layout": {
          "annotationdefaults": {
           "arrowcolor": "#2a3f5f",
           "arrowhead": 0,
           "arrowwidth": 1
          },
          "autotypenumbers": "strict",
          "coloraxis": {
           "colorbar": {
            "outlinewidth": 0,
            "ticks": ""
           }
          },
          "colorscale": {
           "diverging": [
            [
             0,
             "#8e0152"
            ],
            [
             0.1,
             "#c51b7d"
            ],
            [
             0.2,
             "#de77ae"
            ],
            [
             0.3,
             "#f1b6da"
            ],
            [
             0.4,
             "#fde0ef"
            ],
            [
             0.5,
             "#f7f7f7"
            ],
            [
             0.6,
             "#e6f5d0"
            ],
            [
             0.7,
             "#b8e186"
            ],
            [
             0.8,
             "#7fbc41"
            ],
            [
             0.9,
             "#4d9221"
            ],
            [
             1,
             "#276419"
            ]
           ],
           "sequential": [
            [
             0,
             "#0d0887"
            ],
            [
             0.1111111111111111,
             "#46039f"
            ],
            [
             0.2222222222222222,
             "#7201a8"
            ],
            [
             0.3333333333333333,
             "#9c179e"
            ],
            [
             0.4444444444444444,
             "#bd3786"
            ],
            [
             0.5555555555555556,
             "#d8576b"
            ],
            [
             0.6666666666666666,
             "#ed7953"
            ],
            [
             0.7777777777777778,
             "#fb9f3a"
            ],
            [
             0.8888888888888888,
             "#fdca26"
            ],
            [
             1,
             "#f0f921"
            ]
           ],
           "sequentialminus": [
            [
             0,
             "#0d0887"
            ],
            [
             0.1111111111111111,
             "#46039f"
            ],
            [
             0.2222222222222222,
             "#7201a8"
            ],
            [
             0.3333333333333333,
             "#9c179e"
            ],
            [
             0.4444444444444444,
             "#bd3786"
            ],
            [
             0.5555555555555556,
             "#d8576b"
            ],
            [
             0.6666666666666666,
             "#ed7953"
            ],
            [
             0.7777777777777778,
             "#fb9f3a"
            ],
            [
             0.8888888888888888,
             "#fdca26"
            ],
            [
             1,
             "#f0f921"
            ]
           ]
          },
          "colorway": [
           "#636efa",
           "#EF553B",
           "#00cc96",
           "#ab63fa",
           "#FFA15A",
           "#19d3f3",
           "#FF6692",
           "#B6E880",
           "#FF97FF",
           "#FECB52"
          ],
          "font": {
           "color": "#2a3f5f"
          },
          "geo": {
           "bgcolor": "white",
           "lakecolor": "white",
           "landcolor": "#E5ECF6",
           "showlakes": true,
           "showland": true,
           "subunitcolor": "white"
          },
          "hoverlabel": {
           "align": "left"
          },
          "hovermode": "closest",
          "mapbox": {
           "style": "light"
          },
          "paper_bgcolor": "white",
          "plot_bgcolor": "#E5ECF6",
          "polar": {
           "angularaxis": {
            "gridcolor": "white",
            "linecolor": "white",
            "ticks": ""
           },
           "bgcolor": "#E5ECF6",
           "radialaxis": {
            "gridcolor": "white",
            "linecolor": "white",
            "ticks": ""
           }
          },
          "scene": {
           "xaxis": {
            "backgroundcolor": "#E5ECF6",
            "gridcolor": "white",
            "gridwidth": 2,
            "linecolor": "white",
            "showbackground": true,
            "ticks": "",
            "zerolinecolor": "white"
           },
           "yaxis": {
            "backgroundcolor": "#E5ECF6",
            "gridcolor": "white",
            "gridwidth": 2,
            "linecolor": "white",
            "showbackground": true,
            "ticks": "",
            "zerolinecolor": "white"
           },
           "zaxis": {
            "backgroundcolor": "#E5ECF6",
            "gridcolor": "white",
            "gridwidth": 2,
            "linecolor": "white",
            "showbackground": true,
            "ticks": "",
            "zerolinecolor": "white"
           }
          },
          "shapedefaults": {
           "line": {
            "color": "#2a3f5f"
           }
          },
          "ternary": {
           "aaxis": {
            "gridcolor": "white",
            "linecolor": "white",
            "ticks": ""
           },
           "baxis": {
            "gridcolor": "white",
            "linecolor": "white",
            "ticks": ""
           },
           "bgcolor": "#E5ECF6",
           "caxis": {
            "gridcolor": "white",
            "linecolor": "white",
            "ticks": ""
           }
          },
          "title": {
           "x": 0.05
          },
          "xaxis": {
           "automargin": true,
           "gridcolor": "white",
           "linecolor": "white",
           "ticks": "",
           "title": {
            "standoff": 15
           },
           "zerolinecolor": "white",
           "zerolinewidth": 2
          },
          "yaxis": {
           "automargin": true,
           "gridcolor": "white",
           "linecolor": "white",
           "ticks": "",
           "title": {
            "standoff": 15
           },
           "zerolinecolor": "white",
           "zerolinewidth": 2
          }
         }
        },
        "title": {
         "text": "Geographic Distribution of African Pastored Churches in Dallas"
        }
       }
      },
      "text/html": [
       "<div>                            <div id=\"119d5ec5-3045-4f17-8961-86477c8cd212\" class=\"plotly-graph-div\" style=\"height:525px; width:100%;\"></div>            <script type=\"text/javascript\">                require([\"plotly\"], function(Plotly) {                    window.PLOTLYENV=window.PLOTLYENV || {};                                    if (document.getElementById(\"119d5ec5-3045-4f17-8961-86477c8cd212\")) {                    Plotly.newPlot(                        \"119d5ec5-3045-4f17-8961-86477c8cd212\",                        [{\"customdata\":[[\"11836 Judd Ct #352, Dallas, TX 75243\"],[\"3501 San Jacinto St, Dallas, TX 75204\"],[\"1819 N Washington Ave, Dallas, TX 75204\"],[\"11110 Garland Rd, Dallas, TX 75218\"],[\"10721 Plano Rd, Dallas, TX 75238\"],[\"12021 Plano Rd Suite 130 & 140, Dallas, TX 75243\"],[\"10503 Forest Ln #144, Dallas, TX 75243\"],[\"4004 Ivanhoe Ln, Dallas, TX 75212\"],[\"9205 Skillman St Suite 104, Dallas, TX 75243\"],[\"2828 Carpenter Ave, Dallas, TX 75215\"],[\"18610 Marsh Ln, Dallas, TX 75287\"],[\"2020 W Wheatland Rd, Dallas, TX 75232\"],[\"7701 S Westmoreland Rd, Dallas, TX 75237\"],[\"3410 S Polk St, Dallas, TX 75224\"],[\"3715 S Westmoreland Rd, Dallas, TX 75233\"],[\"1831 Canada Dr, Dallas, TX 75212\"],[\"2002 Dennison St, Dallas, TX 75212\"],[\"1101 Reverend CBT Smith St, Dallas, TX 75203\"],[\"921 W Illinois Ave, Dallas, TX 75224\"],[\"1638 Ann Arbor Ave, Dallas, TX 75216\"],[\"7815 Arapaho Rd, Dallas, TX 75248\"],[\"3119 Pine St, Dallas, TX 75215\"],[\"4015 Normandy Ave, Dallas, TX 75205\"],[null],[\"5525 W Illinois Ave, Dallas, TX 75211\"],[\"2311 E Illinois Ave, Dallas, TX 75216\"],[\"9217 Ferguson Rd, Dallas, TX 75228\"],[\"3611 Latimer St, Dallas, TX 75215\"],[\"1819 Martin L King Jr Blvd, Dallas, TX 75215\"],[null],[\"8343 Bruton Rd, Dallas, TX 75227\"],[\"12700 Hillcrest Rd, Dallas, TX 75230\"],[\"6363 Willow Ln, Dallas, TX 75230\"],[\"6000 Singing Hills Dr, Dallas, TX 75241\"],[\"6728 Altaire Ave, Dallas, TX 75241\"],[\"4347 S Hampton Rd, Dallas, TX 75232\"],[\"1808 W Camp Wisdom Rd, Dallas, TX 75232\"],[\"2025 W Wheatland Rd, Dallas, TX 75232\"],[\"5144 Dolphin Rd, Dallas, TX 75223\"],[\"2325 Locust Ave, Dallas, TX 75216\"],[\"1438 Hortense Ave, Dallas, TX 75216\"],[\"1323 S Ewing Ave, Dallas, TX 75216\"],[\"344 E Saner Ave, Dallas, TX 75216\"],[\"1835 Young St, Dallas, TX 75201\"],[\"6810 Samuell Blvd, Dallas, TX 75227\"],[\"1720 Gus Thomasson Rd, Dallas, TX 75228\"],[\"1910 N St Augustine Rd, Dallas, TX 75217\"],[\"901 S Ervay St, Dallas, TX 75201\"],[\"1816 Routh St, Dallas, TX 75201\"],[\"14120 Noel Rd, Dallas, TX 75254\"]],\"hovertemplate\":\"<b>%{hovertext}</b><br><br>Latitude=%{lat}<br>Longitude=%{lon}<br>full_address=%{customdata[0]}<extra></extra>\",\"hovertext\":[\"Rccg Victory Center Dallas\",\"Macedonia Baptist Church\",\"Pilgrim Rest Missionary Baptist Church\",\"Gospel Light Eritrean Baptist Church Dallas\",\"The Shining Light Church\",\"The Factory of God Church\",\"Liberate Church\",\"Galilee Church of God In Christ\",\"Apostolic Triumphant Church International - Texas Branch\",\"Greater Garth Chapel African Methodist Episcopal Church\",\"The Life Church - Dallas\",\"Friendship-West Baptist Church\",\"Inspiring Body of Christ Church\",\"The Union Church\",\"Freedom Missionary Baptist\",\"Leath Street Baptist Church\",\"Greenway Park Church of God\",\"Golden Gate Baptist Church\",\"Shiloh Missionary Baptist Church\",\"Bethel A.M.E. Church\",\"Neema Gospel Church\",\"Peoples Missionary Baptist Church\",\"First Unitarian Church of Dallas\",\"Here's Life Africa\",\"The Lighthouse Church\",\"St. Mark AME Zion Church\",\"Bethel Romanian Church\",\"Mount Moriah Missionary Baptist Church\",\"Cornerstone Baptist Church\",\"Empower Africa\",\"Greater Macedonia Church\",\"Living Hope Christian Ministries\",\"Dallas Texas Temple\",\"St Phillip Missionary Baptist\",\"True Vine of Holiness\",\"Tenth Episcopal District AME Church\",\"Oak Cliff Bible Fellowship\",\"New Covenant Christian Fellowship Church\",\"Hopewell Missionary Baptist Church\",\"Southern Crest Full Gospel\",\"Deliverance Chapel Church Of God In Christ\",\"Ewing Avenue Baptist Church\",\"Steven Temple Church of God in Christ\",\"First Presbyterian Church of Dallas\",\"Christian Stronghold Church\",\"Medhanealem Eritrean Orthodox Tewahedo Church\",\"Pleasant Zion Missionary Baptist\",\"The Anglican Mission in America\",\"St. Paul United Methodist Church\",\"\\u200bChristian Chapel Temple of Faith\"],\"lat\":[32.9103755,32.7957462,32.7986455,32.8465781,32.8960933,32.9121432,32.9099888,32.7915349,32.90411,32.7590466,33.003513,32.6465507,32.6514707,32.7027164,32.6977396,32.7914082,32.7815844,32.756434,32.7209587,32.6948369,32.9623939,32.7630456,null,32.838842,32.7205756,32.7176848,32.8160472,32.7614748,null,32.7630541,32.7490838,32.9221564,32.914276,32.6744476,32.666412,32.6896124,32.6617605,32.6481843,32.7872048,32.7014209,32.6886024,32.7319931,32.7129078,32.7791209,32.7919728,32.8382726,32.7448029,32.7749854,32.7922284,32.9405145],\"legendgroup\":\"\",\"lon\":[-96.7422905,-96.7873198,-96.7876414,-96.6851564,-96.7009185,-96.7010819,-96.7038333,-96.8550565,-96.7153681,-96.7544652,-96.856459,-96.8506788,-96.8892231,-96.8396643,-96.8791601,-96.8488944,-96.8536493,-96.808121,-96.8384918,-96.7988056,-96.7729473,-96.7536297,null,-96.803798,-96.9139621,-96.7840811,-96.6929482,-96.7665029,null,-96.7763064,-96.676718,-96.7853731,-96.79651,-96.8005659,-96.8208942,-96.8576737,-96.8498931,-96.8506448,-96.7369886,-96.7851082,-96.8020677,-96.8117003,-96.8187262,-96.7940388,-96.6922588,-96.682984,-96.6565039,-96.7942899,-96.7964133,-96.8167682],\"marker\":{\"color\":\"#636efa\"},\"mode\":\"markers\",\"name\":\"\",\"showlegend\":false,\"subplot\":\"mapbox\",\"type\":\"scattermapbox\"}],                        {\"template\":{\"data\":{\"histogram2dcontour\":[{\"type\":\"histogram2dcontour\",\"colorbar\":{\"outlinewidth\":0,\"ticks\":\"\"},\"colorscale\":[[0.0,\"#0d0887\"],[0.1111111111111111,\"#46039f\"],[0.2222222222222222,\"#7201a8\"],[0.3333333333333333,\"#9c179e\"],[0.4444444444444444,\"#bd3786\"],[0.5555555555555556,\"#d8576b\"],[0.6666666666666666,\"#ed7953\"],[0.7777777777777778,\"#fb9f3a\"],[0.8888888888888888,\"#fdca26\"],[1.0,\"#f0f921\"]]}],\"choropleth\":[{\"type\":\"choropleth\",\"colorbar\":{\"outlinewidth\":0,\"ticks\":\"\"}}],\"histogram2d\":[{\"type\":\"histogram2d\",\"colorbar\":{\"outlinewidth\":0,\"ticks\":\"\"},\"colorscale\":[[0.0,\"#0d0887\"],[0.1111111111111111,\"#46039f\"],[0.2222222222222222,\"#7201a8\"],[0.3333333333333333,\"#9c179e\"],[0.4444444444444444,\"#bd3786\"],[0.5555555555555556,\"#d8576b\"],[0.6666666666666666,\"#ed7953\"],[0.7777777777777778,\"#fb9f3a\"],[0.8888888888888888,\"#fdca26\"],[1.0,\"#f0f921\"]]}],\"heatmap\":[{\"type\":\"heatmap\",\"colorbar\":{\"outlinewidth\":0,\"ticks\":\"\"},\"colorscale\":[[0.0,\"#0d0887\"],[0.1111111111111111,\"#46039f\"],[0.2222222222222222,\"#7201a8\"],[0.3333333333333333,\"#9c179e\"],[0.4444444444444444,\"#bd3786\"],[0.5555555555555556,\"#d8576b\"],[0.6666666666666666,\"#ed7953\"],[0.7777777777777778,\"#fb9f3a\"],[0.8888888888888888,\"#fdca26\"],[1.0,\"#f0f921\"]]}],\"heatmapgl\":[{\"type\":\"heatmapgl\",\"colorbar\":{\"outlinewidth\":0,\"ticks\":\"\"},\"colorscale\":[[0.0,\"#0d0887\"],[0.1111111111111111,\"#46039f\"],[0.2222222222222222,\"#7201a8\"],[0.3333333333333333,\"#9c179e\"],[0.4444444444444444,\"#bd3786\"],[0.5555555555555556,\"#d8576b\"],[0.6666666666666666,\"#ed7953\"],[0.7777777777777778,\"#fb9f3a\"],[0.8888888888888888,\"#fdca26\"],[1.0,\"#f0f921\"]]}],\"contourcarpet\":[{\"type\":\"contourcarpet\",\"colorbar\":{\"outlinewidth\":0,\"ticks\":\"\"}}],\"contour\":[{\"type\":\"contour\",\"colorbar\":{\"outlinewidth\":0,\"ticks\":\"\"},\"colorscale\":[[0.0,\"#0d0887\"],[0.1111111111111111,\"#46039f\"],[0.2222222222222222,\"#7201a8\"],[0.3333333333333333,\"#9c179e\"],[0.4444444444444444,\"#bd3786\"],[0.5555555555555556,\"#d8576b\"],[0.6666666666666666,\"#ed7953\"],[0.7777777777777778,\"#fb9f3a\"],[0.8888888888888888,\"#fdca26\"],[1.0,\"#f0f921\"]]}],\"surface\":[{\"type\":\"surface\",\"colorbar\":{\"outlinewidth\":0,\"ticks\":\"\"},\"colorscale\":[[0.0,\"#0d0887\"],[0.1111111111111111,\"#46039f\"],[0.2222222222222222,\"#7201a8\"],[0.3333333333333333,\"#9c179e\"],[0.4444444444444444,\"#bd3786\"],[0.5555555555555556,\"#d8576b\"],[0.6666666666666666,\"#ed7953\"],[0.7777777777777778,\"#fb9f3a\"],[0.8888888888888888,\"#fdca26\"],[1.0,\"#f0f921\"]]}],\"mesh3d\":[{\"type\":\"mesh3d\",\"colorbar\":{\"outlinewidth\":0,\"ticks\":\"\"}}],\"scatter\":[{\"fillpattern\":{\"fillmode\":\"overlay\",\"size\":10,\"solidity\":0.2},\"type\":\"scatter\"}],\"parcoords\":[{\"type\":\"parcoords\",\"line\":{\"colorbar\":{\"outlinewidth\":0,\"ticks\":\"\"}}}],\"scatterpolargl\":[{\"type\":\"scatterpolargl\",\"marker\":{\"colorbar\":{\"outlinewidth\":0,\"ticks\":\"\"}}}],\"bar\":[{\"error_x\":{\"color\":\"#2a3f5f\"},\"error_y\":{\"color\":\"#2a3f5f\"},\"marker\":{\"line\":{\"color\":\"#E5ECF6\",\"width\":0.5},\"pattern\":{\"fillmode\":\"overlay\",\"size\":10,\"solidity\":0.2}},\"type\":\"bar\"}],\"scattergeo\":[{\"type\":\"scattergeo\",\"marker\":{\"colorbar\":{\"outlinewidth\":0,\"ticks\":\"\"}}}],\"scatterpolar\":[{\"type\":\"scatterpolar\",\"marker\":{\"colorbar\":{\"outlinewidth\":0,\"ticks\":\"\"}}}],\"histogram\":[{\"marker\":{\"pattern\":{\"fillmode\":\"overlay\",\"size\":10,\"solidity\":0.2}},\"type\":\"histogram\"}],\"scattergl\":[{\"type\":\"scattergl\",\"marker\":{\"colorbar\":{\"outlinewidth\":0,\"ticks\":\"\"}}}],\"scatter3d\":[{\"type\":\"scatter3d\",\"line\":{\"colorbar\":{\"outlinewidth\":0,\"ticks\":\"\"}},\"marker\":{\"colorbar\":{\"outlinewidth\":0,\"ticks\":\"\"}}}],\"scattermapbox\":[{\"type\":\"scattermapbox\",\"marker\":{\"colorbar\":{\"outlinewidth\":0,\"ticks\":\"\"}}}],\"scatterternary\":[{\"type\":\"scatterternary\",\"marker\":{\"colorbar\":{\"outlinewidth\":0,\"ticks\":\"\"}}}],\"scattercarpet\":[{\"type\":\"scattercarpet\",\"marker\":{\"colorbar\":{\"outlinewidth\":0,\"ticks\":\"\"}}}],\"carpet\":[{\"aaxis\":{\"endlinecolor\":\"#2a3f5f\",\"gridcolor\":\"white\",\"linecolor\":\"white\",\"minorgridcolor\":\"white\",\"startlinecolor\":\"#2a3f5f\"},\"baxis\":{\"endlinecolor\":\"#2a3f5f\",\"gridcolor\":\"white\",\"linecolor\":\"white\",\"minorgridcolor\":\"white\",\"startlinecolor\":\"#2a3f5f\"},\"type\":\"carpet\"}],\"table\":[{\"cells\":{\"fill\":{\"color\":\"#EBF0F8\"},\"line\":{\"color\":\"white\"}},\"header\":{\"fill\":{\"color\":\"#C8D4E3\"},\"line\":{\"color\":\"white\"}},\"type\":\"table\"}],\"barpolar\":[{\"marker\":{\"line\":{\"color\":\"#E5ECF6\",\"width\":0.5},\"pattern\":{\"fillmode\":\"overlay\",\"size\":10,\"solidity\":0.2}},\"type\":\"barpolar\"}],\"pie\":[{\"automargin\":true,\"type\":\"pie\"}]},\"layout\":{\"autotypenumbers\":\"strict\",\"colorway\":[\"#636efa\",\"#EF553B\",\"#00cc96\",\"#ab63fa\",\"#FFA15A\",\"#19d3f3\",\"#FF6692\",\"#B6E880\",\"#FF97FF\",\"#FECB52\"],\"font\":{\"color\":\"#2a3f5f\"},\"hovermode\":\"closest\",\"hoverlabel\":{\"align\":\"left\"},\"paper_bgcolor\":\"white\",\"plot_bgcolor\":\"#E5ECF6\",\"polar\":{\"bgcolor\":\"#E5ECF6\",\"angularaxis\":{\"gridcolor\":\"white\",\"linecolor\":\"white\",\"ticks\":\"\"},\"radialaxis\":{\"gridcolor\":\"white\",\"linecolor\":\"white\",\"ticks\":\"\"}},\"ternary\":{\"bgcolor\":\"#E5ECF6\",\"aaxis\":{\"gridcolor\":\"white\",\"linecolor\":\"white\",\"ticks\":\"\"},\"baxis\":{\"gridcolor\":\"white\",\"linecolor\":\"white\",\"ticks\":\"\"},\"caxis\":{\"gridcolor\":\"white\",\"linecolor\":\"white\",\"ticks\":\"\"}},\"coloraxis\":{\"colorbar\":{\"outlinewidth\":0,\"ticks\":\"\"}},\"colorscale\":{\"sequential\":[[0.0,\"#0d0887\"],[0.1111111111111111,\"#46039f\"],[0.2222222222222222,\"#7201a8\"],[0.3333333333333333,\"#9c179e\"],[0.4444444444444444,\"#bd3786\"],[0.5555555555555556,\"#d8576b\"],[0.6666666666666666,\"#ed7953\"],[0.7777777777777778,\"#fb9f3a\"],[0.8888888888888888,\"#fdca26\"],[1.0,\"#f0f921\"]],\"sequentialminus\":[[0.0,\"#0d0887\"],[0.1111111111111111,\"#46039f\"],[0.2222222222222222,\"#7201a8\"],[0.3333333333333333,\"#9c179e\"],[0.4444444444444444,\"#bd3786\"],[0.5555555555555556,\"#d8576b\"],[0.6666666666666666,\"#ed7953\"],[0.7777777777777778,\"#fb9f3a\"],[0.8888888888888888,\"#fdca26\"],[1.0,\"#f0f921\"]],\"diverging\":[[0,\"#8e0152\"],[0.1,\"#c51b7d\"],[0.2,\"#de77ae\"],[0.3,\"#f1b6da\"],[0.4,\"#fde0ef\"],[0.5,\"#f7f7f7\"],[0.6,\"#e6f5d0\"],[0.7,\"#b8e186\"],[0.8,\"#7fbc41\"],[0.9,\"#4d9221\"],[1,\"#276419\"]]},\"xaxis\":{\"gridcolor\":\"white\",\"linecolor\":\"white\",\"ticks\":\"\",\"title\":{\"standoff\":15},\"zerolinecolor\":\"white\",\"automargin\":true,\"zerolinewidth\":2},\"yaxis\":{\"gridcolor\":\"white\",\"linecolor\":\"white\",\"ticks\":\"\",\"title\":{\"standoff\":15},\"zerolinecolor\":\"white\",\"automargin\":true,\"zerolinewidth\":2},\"scene\":{\"xaxis\":{\"backgroundcolor\":\"#E5ECF6\",\"gridcolor\":\"white\",\"linecolor\":\"white\",\"showbackground\":true,\"ticks\":\"\",\"zerolinecolor\":\"white\",\"gridwidth\":2},\"yaxis\":{\"backgroundcolor\":\"#E5ECF6\",\"gridcolor\":\"white\",\"linecolor\":\"white\",\"showbackground\":true,\"ticks\":\"\",\"zerolinecolor\":\"white\",\"gridwidth\":2},\"zaxis\":{\"backgroundcolor\":\"#E5ECF6\",\"gridcolor\":\"white\",\"linecolor\":\"white\",\"showbackground\":true,\"ticks\":\"\",\"zerolinecolor\":\"white\",\"gridwidth\":2}},\"shapedefaults\":{\"line\":{\"color\":\"#2a3f5f\"}},\"annotationdefaults\":{\"arrowcolor\":\"#2a3f5f\",\"arrowhead\":0,\"arrowwidth\":1},\"geo\":{\"bgcolor\":\"white\",\"landcolor\":\"#E5ECF6\",\"subunitcolor\":\"white\",\"showland\":true,\"showlakes\":true,\"lakecolor\":\"white\"},\"title\":{\"x\":0.05},\"mapbox\":{\"style\":\"light\"}}},\"mapbox\":{\"domain\":{\"x\":[0.0,1.0],\"y\":[0.0,1.0]},\"center\":{\"lat\":32.78176150416666,\"lon\":-96.78722032083334},\"zoom\":10,\"style\":\"open-street-map\"},\"legend\":{\"tracegroupgap\":0},\"margin\":{\"t\":60},\"title\":{\"text\":\"Geographic Distribution of African Pastored Churches in Dallas\"}},                        {\"responsive\": true}                    ).then(function(){\n",
       "                            \n",
       "var gd = document.getElementById('119d5ec5-3045-4f17-8961-86477c8cd212');\n",
       "var x = new MutationObserver(function (mutations, observer) {{\n",
       "        var display = window.getComputedStyle(gd).display;\n",
       "        if (!display || display === 'none') {{\n",
       "            console.log([gd, 'removed!']);\n",
       "            Plotly.purge(gd);\n",
       "            observer.disconnect();\n",
       "        }}\n",
       "}});\n",
       "\n",
       "// Listen for the removal of the full notebook cells\n",
       "var notebookContainer = gd.closest('#notebook-container');\n",
       "if (notebookContainer) {{\n",
       "    x.observe(notebookContainer, {childList: true});\n",
       "}}\n",
       "\n",
       "// Listen for the clearing of the current output cell\n",
       "var outputEl = gd.closest('.output');\n",
       "if (outputEl) {{\n",
       "    x.observe(outputEl, {childList: true});\n",
       "}}\n",
       "\n",
       "                        })                };                });            </script>        </div>"
      ]
     },
     "metadata": {},
     "output_type": "display_data"
    }
   ],
   "source": [
    "import plotly.express as px\n",
    "\n",
    "# Plotting the geographic distribution of churches on a map\n",
    "fig = px.scatter_mapbox(data, lat=\"Latitude\", lon=\"Longitude\", hover_name=\"name\",\n",
    "                        hover_data=[\"full_address\"], zoom=10)\n",
    "fig.update_layout(mapbox_style=\"open-street-map\")\n",
    "fig.update_layout(title='Geographic Distribution of African Pastored Churches in Dallas')\n",
    "fig.show()"
   ]
  },
  {
   "cell_type": "code",
   "execution_count": 81,
   "id": "646d5e1a",
   "metadata": {},
   "outputs": [
    {
     "name": "stdout",
     "output_type": "stream",
     "text": [
      "Summary:\n",
      "- There are 50 churches in the dataset.\n",
      "- The most common church denomination is Baptist church\n",
      "- The most populated demography of African country is South Africa\n",
      "- Sunday is the most common service day.\n",
      "- The churches are mostly pastored by Africans\n"
     ]
    }
   ],
   "source": [
    "# Summary of the analysis and conclusions\n",
    "print(\"Summary:\")\n",
    "print(\"- There are\", len(data), \"churches in the dataset.\")\n",
    "print(\"- The most common church denomination is\", denomination.idxmax())\n",
    "print(\"- The most populated demography of African country is\", demography.idxmax())\n",
    "print(\"- Sunday is the most common service day.\")\n",
    "print(\"- The churches are mostly pastored by Africans\")"
   ]
  },
  {
   "cell_type": "code",
   "execution_count": null,
   "id": "7ec04dfd",
   "metadata": {},
   "outputs": [],
   "source": []
  }
 ],
 "metadata": {
  "kernelspec": {
   "display_name": "Python 3 (ipykernel)",
   "language": "python",
   "name": "python3"
  },
  "language_info": {
   "codemirror_mode": {
    "name": "ipython",
    "version": 3
   },
   "file_extension": ".py",
   "mimetype": "text/x-python",
   "name": "python",
   "nbconvert_exporter": "python",
   "pygments_lexer": "ipython3",
   "version": "3.9.13"
  }
 },
 "nbformat": 4,
 "nbformat_minor": 5
}
